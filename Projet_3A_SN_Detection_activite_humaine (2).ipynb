{
  "nbformat": 4,
  "nbformat_minor": 0,
  "metadata": {
    "kernelspec": {
      "display_name": "Python 3",
      "language": "python",
      "name": "python3"
    },
    "language_info": {
      "codemirror_mode": {
        "name": "ipython",
        "version": 3
      },
      "file_extension": ".py",
      "mimetype": "text/x-python",
      "name": "python",
      "nbconvert_exporter": "python",
      "pygments_lexer": "ipython3",
      "version": "3.7.1"
    },
    "colab": {
      "name": "Projet 3A SN - Detection activite humaine.ipynb",
      "provenance": [],
      "collapsed_sections": [],
      "toc_visible": true
    },
    "accelerator": "GPU"
  },
  "cells": [
    {
      "cell_type": "markdown",
      "metadata": {
        "id": "toAb5MhsXTO3"
      },
      "source": [
        "# Projet 3A SN :  Détection d'activité humaine - Apprentissage supervisé et non supervisé\n",
        "\n",
        "\n",
        "\n",
        "Dans ce projet, nous essaierons de prédire l'activité humaine (1-Descendre, 2-Courir, 3-Assis, 4-Debout, 5-Monter ou 6-Marcher) en utilisant les capteurs du smartphone. C'est-à-dire qu'en utilisant les méthodes suivantes, le smartphone peut détecter ce que nous faisons en ce moment.\n",
        "\n",
        "\n",
        "En utilisant l'accéléromètre  intégré dans le smartphone,  l'accélération linéaire 3-axes à un taux constant de 50Hz ont été relevées. Les expériences ont été enregistrées sur vidéo pour étiqueter les données manuellement. \n",
        "\n",
        "<img src=\"files/HARDataset.JPG\" width=\"800\" height=\"600\"  >\n",
        "\n",
        "Il est fourni pour chaque enregistrement de l'ensemble de données : \n",
        "- L'accélération triaxiale de l'accéléromètre (accélération totale)\n",
        "- Son étiquette d'activité. \n",
        "- Un identifiant du sujet qui a réalisé l'expérience.\n",
        "\n",
        "\n",
        "Ces 5 séances se décomposent en 4 parties : \n",
        "- Partie I : Implémenter la DTW pour créer un système de reconnaissance;\n",
        "- Partie II : Réduction de dimension par ACP et classification par kppv \n",
        "- Partie III : Classification par Forêts aléatoires\n",
        "- Partie IV : Classification par réseaux de neurones\n",
        "- Partie V : Votre étude\n",
        "\n",
        "**Travail à rendre**\n",
        "\n",
        "Pour cela, vous devez par binômes (effectif **OBLIGATOIRE**):\n",
        "1. Implémenter la DTW pour créer un système de reconnaissance;\n",
        "2. Evaluer les résultats en utilisant la matrice de confusion et le pourcentage de bonne classification;\n",
        "3. Réduction de dimension par ACP et classification par kppv \n",
        "4. Classification par Forêts aléatoires\n",
        "5. Classification par réseaux de neurones\n",
        "6. Rédiger un rapport en pdf présentant votre étude : les résultats par  méthode et vos commentaires et conclusions sur une étude plus générale en modifiant les tailles des ensembles de test et d'apprentissage, en changeant le nombre de classes  (Longeur max. : 10 pages).\n",
        "\n",
        "\n",
        "**Dataset et description :**\n",
        "https://archive.ics.uci.edu/ml/datasets/WISDM+Smartphone+and+Smartwatch+Activity+and+Biometrics+Dataset+\n",
        "\n",
        "\n"
      ]
    },
    {
      "cell_type": "code",
      "metadata": {
        "id": "1Fh78mP5XTO9"
      },
      "source": [
        "import matplotlib.pyplot as plt\n",
        "import numpy as np\n",
        "import sklearn\n",
        "import pandas as pd\n",
        "import math\n",
        "from scipy import stats\n",
        "import seaborn as sns"
      ],
      "execution_count": 1,
      "outputs": []
    },
    {
      "cell_type": "code",
      "metadata": {
        "id": "ExfBvi82XTO-"
      },
      "source": [
        "COLUMN_NAMES = [\n",
        "    'user',\n",
        "    'activity',\n",
        "    'timestamp',\n",
        "    'x-axis',\n",
        "    'y-axis',\n",
        "    'z-axis'\n",
        "]\n",
        "\n",
        "LABELS = [\n",
        "    'Downstairs',\n",
        "    'Jogging',\n",
        "    'Sitting',\n",
        "    'Standing',\n",
        "    'Upstairs',\n",
        "    'Walking'\n",
        "]\n",
        "\n",
        "DATA_PATH = './WISDM_ar_v1.1_raw.txt'\n",
        "\n",
        "\n",
        "# Data preprocessing\n",
        "TIME_STEP = 60\n",
        "\n",
        "# Model\n",
        "N_CLASSES = 3\n",
        "N_FEATURES = 3  # x-acceleration, y-acceleration, z-acceleration\n",
        "SEGMENT_TIME_SIZE = 30\n",
        "TAILLE_TEST=40\n",
        "TAILLE_APP=20"
      ],
      "execution_count": 2,
      "outputs": []
    },
    {
      "cell_type": "markdown",
      "metadata": {
        "id": "UxfmcVNGXTO_"
      },
      "source": [
        "## 1. Création des données d'apprentissage et de test"
      ]
    },
    {
      "cell_type": "code",
      "metadata": {
        "colab": {
          "resources": {
            "http://localhost:8080/nbextensions/google.colab/files.js": {
              "data": "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",
              "ok": true,
              "headers": [
                [
                  "content-type",
                  "application/javascript"
                ]
              ],
              "status": 200,
              "status_text": ""
            }
          },
          "base_uri": "https://localhost:8080/",
          "height": 72
        },
        "id": "4uBwZnPHgEJ2",
        "outputId": "fb58ea48-7848-47b2-d956-2c79ca1f83d8"
      },
      "source": [
        "from google.colab import files\r\n",
        "uploaded = files.upload()"
      ],
      "execution_count": 3,
      "outputs": [
        {
          "output_type": "display_data",
          "data": {
            "text/html": [
              "\n",
              "     <input type=\"file\" id=\"files-70e54b7a-bdd7-4f77-b325-62f425702d55\" name=\"files[]\" multiple disabled\n",
              "        style=\"border:none\" />\n",
              "     <output id=\"result-70e54b7a-bdd7-4f77-b325-62f425702d55\">\n",
              "      Upload widget is only available when the cell has been executed in the\n",
              "      current browser session. Please rerun this cell to enable.\n",
              "      </output>\n",
              "      <script src=\"/nbextensions/google.colab/files.js\"></script> "
            ],
            "text/plain": [
              "<IPython.core.display.HTML object>"
            ]
          },
          "metadata": {
            "tags": []
          }
        },
        {
          "output_type": "stream",
          "text": [
            "Saving WISDM_ar_v1.1_raw.txt to WISDM_ar_v1.1_raw.txt\n"
          ],
          "name": "stdout"
        }
      ]
    },
    {
      "cell_type": "code",
      "metadata": {
        "id": "8nCs8wRIXTO_",
        "colab": {
          "base_uri": "https://localhost:8080/",
          "height": 1000
        },
        "outputId": "009f08f1-8a92-4cd9-c111-0b577e484882"
      },
      "source": [
        "# Chargement DATA\n",
        "data = pd.read_csv(DATA_PATH, header=None, names=COLUMN_NAMES)\n",
        "data['z-axis'].replace({';': ''}, regex=True, inplace=True)\n",
        "data = data.dropna()\n",
        "\n",
        "\n",
        "data_convoluted = []\n",
        "labels = []\n",
        "\n",
        "\n",
        "\n",
        "# Prendre des segments temporels de taille SEGMENT_TIME_SIZE \n",
        "# tous les TIME_STEP pour une même activité\n",
        "for j in range(0,N_CLASSES):\n",
        "    DataBest=data[data['activity'] == LABELS[j]]\n",
        "    for i in range(0, len(DataBest) - SEGMENT_TIME_SIZE, TIME_STEP):\n",
        "        x = DataBest['x-axis'].values[i: i + SEGMENT_TIME_SIZE]\n",
        "        y = DataBest['y-axis'].values[i: i + SEGMENT_TIME_SIZE]\n",
        "        z = DataBest['z-axis'].values[i: i + SEGMENT_TIME_SIZE]\n",
        "        data_convoluted.append([x, y, z])\n",
        "    # Label de l'activité associée à chaque segment\n",
        "        label = j\n",
        "        labels.append(label)\n",
        "\n",
        "\n",
        "# Conversion numpy\n",
        "data_convoluted = np.asarray(data_convoluted, dtype=np.float32).transpose(0, 2, 1)\n",
        "\n",
        "labels = np.asarray(labels, dtype=np.int)\n",
        "print(\"Convoluted data shape: \", data_convoluted.shape)\n",
        "print(\"Labels shape:\", labels.shape)\n",
        "\n",
        "\n",
        "fig, axs = plt.subplots(N_CLASSES,figsize=(30,30))\n",
        "fig.suptitle('Profil moyen Activité')\n",
        "\n",
        "profil_median=np.zeros((N_CLASSES,SEGMENT_TIME_SIZE,N_FEATURES))\n",
        "List_Data_Test=np.zeros(N_CLASSES*TAILLE_TEST)\n",
        "Data_Test=np.zeros((N_CLASSES*TAILLE_TEST,SEGMENT_TIME_SIZE*N_FEATURES))\n",
        "Data_App=np.zeros((TAILLE_APP*N_CLASSES,SEGMENT_TIME_SIZE*N_FEATURES))\n",
        "Label_Test=np.zeros(N_CLASSES*TAILLE_TEST)\n",
        "Label_App=np.zeros(N_CLASSES*TAILLE_APP)\n",
        "\n",
        "for i in range(N_CLASSES):\n",
        "    # Selection des données correspondant à la classe i\n",
        "    print('Classe N°',i)\n",
        "    res=np.where(labels==i)\n",
        "    res=np.array(res)\n",
        "    res=np.ravel(res)\n",
        "    taille=res.shape[0]\n",
        "    \n",
        "    # Création de la base de Test\n",
        "    tirage=np.random.randint(0,taille,TAILLE_TEST)\n",
        "    List_Data_Test[i*TAILLE_TEST:(i+1)*TAILLE_TEST]=res[tirage[0:TAILLE_TEST]]\n",
        "    Label_Test[i*TAILLE_TEST:(i+1)*TAILLE_TEST]=i\n",
        "    tir_dataTest=data_convoluted[res[tirage[0:TAILLE_TEST]],:,:]\n",
        "    Data_Test[i*TAILLE_TEST:(i+1)*TAILLE_TEST,:]=np.reshape(tir_dataTest,(TAILLE_TEST,SEGMENT_TIME_SIZE*N_FEATURES))\n",
        "    \n",
        "    \n",
        "    # Création de la base d'Apprentissage\n",
        "    tirage1=np.random.randint(0,taille,TAILLE_APP)\n",
        "    tir_dataApp=data_convoluted[res[tirage1[0:TAILLE_APP]],:,:]\n",
        "    Data_App[i*TAILLE_APP:(i+1)*TAILLE_APP,:]=np.reshape(tir_dataApp,(TAILLE_APP,SEGMENT_TIME_SIZE*N_FEATURES))\n",
        "    Label_App[i*TAILLE_APP:(i+1)*TAILLE_APP]=i\n",
        "    \n",
        "    # Affichage du profil temporel moyen de la classe\n",
        "    class1=np.median(tir_dataApp,axis=0)\n",
        "    profil_median[i,:,:]=class1\n",
        "    \n",
        "    axs[i].plot(range(SEGMENT_TIME_SIZE),class1[:,0],'b--')\n",
        "    axs[i].plot(range(SEGMENT_TIME_SIZE),class1[:,1],'r-')\n",
        "    axs[i].plot(range(SEGMENT_TIME_SIZE),class1[:,2],'k.')\n",
        "    axs[i].set_ylabel('X-Y-Z acceleration (dg)',fontsize=20)\n",
        "    axs[i].set_title(LABELS[i], fontsize=20)\n",
        "\n",
        "    print(\"shape de tir data test\", np.shape(tir_dataTest))\n",
        "    print(\"shape de tir data app\", np.shape(tir_dataApp))\n",
        "\n",
        "\n"
      ],
      "execution_count": 4,
      "outputs": [
        {
          "output_type": "stream",
          "text": [
            "Convoluted data shape:  (8376, 30, 3)\n",
            "Labels shape: (8376,)\n",
            "Classe N° 0\n",
            "shape de tir data test (40, 30, 3)\n",
            "shape de tir data app (20, 30, 3)\n",
            "Classe N° 1\n",
            "shape de tir data test (40, 30, 3)\n",
            "shape de tir data app (20, 30, 3)\n",
            "Classe N° 2\n",
            "shape de tir data test (40, 30, 3)\n",
            "shape de tir data app (20, 30, 3)\n"
          ],
          "name": "stdout"
        },
        {
          "output_type": "display_data",
          "data": {
            "image/png": "[encoded data removed]",
            "text/plain": [
              "<Figure size 2160x2160 with 3 Axes>"
            ]
          },
          "metadata": {
            "tags": [],
            "needs_background": "light"
          }
        }
      ]
    },
    {
      "cell_type": "code",
      "metadata": {
        "id": "nAZkPoan2lgG",
        "colab": {
          "base_uri": "https://localhost:8080/"
        },
        "outputId": "03ec6801-3da8-4ad1-ff50-67af843af6ce"
      },
      "source": [
        "print(\"x shape\", np.shape(x))\r\n",
        "print(\"Convoluted data shape: \", data_convoluted.shape)\r\n"
      ],
      "execution_count": 5,
      "outputs": [
        {
          "output_type": "stream",
          "text": [
            "x shape (30,)\n",
            "Convoluted data shape:  (8376, 30, 3)\n"
          ],
          "name": "stdout"
        }
      ]
    },
    {
      "cell_type": "markdown",
      "metadata": {
        "id": "Ku9fPe8ZXTPF"
      },
      "source": [
        "# Partie I : Implémentation de l'algorithme de programmation dynamique \n",
        "\n",
        "1. Ecrivez une fonction en python DTW qui implémente le calcul et l'affichage de la matrice des coûts définie en CTD. "
      ]
    },
    {
      "cell_type": "markdown",
      "metadata": {
        "id": "2b7ol9Jf7zYU"
      },
      "source": [
        "On utilise une distance L1"
      ]
    },
    {
      "cell_type": "code",
      "metadata": {
        "id": "cFnknvrH7w6n"
      },
      "source": [
        "def dist(p1,p2):\r\n",
        "  return abs(p1-p2)"
      ],
      "execution_count": 6,
      "outputs": []
    },
    {
      "cell_type": "code",
      "metadata": {
        "id": "NsRqO6FxXTPF"
      },
      "source": [
        "\r\n",
        "def DTW_Matrix(A,B):\r\n",
        "    M = len(A) # longueur de la première série\r\n",
        "    N = len(B) # longueur de la deuxième série\r\n",
        "    g = np.zeros((N,M),dtype=float) # initialisation de la matrice DTW\r\n",
        "    \r\n",
        "    for i in range(1,M):\r\n",
        "        g[0,i] = dist(A[i],B[0]) + g[0,i-1]\r\n",
        "    for i in range(1,N):\r\n",
        "        g[i,0] = dist(A[0],B[i]) + g[i-1,0]\r\n",
        "    for i in range(1,N):\r\n",
        "        for j in range(1,M):\r\n",
        "            cost = dist(A[j],B[i])\r\n",
        "            g[i,j] = np.min([g[i-1,j] + cost, g[i,j-1] + cost, g[i-1,j-1] + cost])\r\n",
        "    \r\n",
        "    return g"
      ],
      "execution_count": 7,
      "outputs": []
    },
    {
      "cell_type": "code",
      "metadata": {
        "id": "6TY-hGt5tl2V"
      },
      "source": [
        "def score_DTW(g):\r\n",
        "  N = np.shape(g)[0]\r\n",
        "  M = np.shape(g)[1]\r\n",
        "\r\n",
        "  return g[N-1,M-1]"
      ],
      "execution_count": 8,
      "outputs": []
    },
    {
      "cell_type": "code",
      "metadata": {
        "id": "smqMfCx07pb9",
        "colab": {
          "base_uri": "https://localhost:8080/"
        },
        "outputId": "38097cbb-0316-47df-c805-0e0a558a85cb"
      },
      "source": [
        "# Test de DTW\r\n",
        "A = np.array([0,1,1,2,2,3,5])\r\n",
        "B = np.array([0,1,2,3,5,5,5,6])\r\n",
        "g = DTW_Matrix(A, B)\r\n",
        "\r\n",
        "score_DTW(g)"
      ],
      "execution_count": 9,
      "outputs": [
        {
          "output_type": "execute_result",
          "data": {
            "text/plain": [
              "1.0"
            ]
          },
          "metadata": {
            "tags": []
          },
          "execution_count": 9
        }
      ]
    },
    {
      "cell_type": "markdown",
      "metadata": {
        "id": "pcpokq5BXTPG"
      },
      "source": [
        "2. Pour chaque profil temporel test :\n",
        "\n",
        "a) Calculer pour chaque classe, le score de la DTW entre le profil temporel test et les profils temporels de la classe \n",
        "\n",
        "b) Déterminer la classe d'appartenance par minimum du score sur toutes les classes\n",
        "\n",
        "\n"
      ]
    },
    {
      "cell_type": "code",
      "metadata": {
        "id": "1eLziWpAXTPG",
        "colab": {
          "base_uri": "https://localhost:8080/"
        },
        "outputId": "1d9f274b-edf0-47eb-8ebc-8f513d30cf16"
      },
      "source": [
        "print(\"x shape\", np.shape(x))\r\n",
        "print(\"Convoluted data shape: \", data_convoluted.shape)\r\n",
        "print(\"data_app size\", np.shape(Data_App))\r\n",
        "print(\"data test size\", np.shape(Data_Test))\r\n",
        "print(\"label test size\", np.shape(Label_Test))\r\n",
        "print(\"Label App size\", np.shape(Label_App))\r\n",
        "print(\"profil_median\", np.shape(profil_median))\r\n",
        "print(\"class1\", np.shape(class1))"
      ],
      "execution_count": 10,
      "outputs": [
        {
          "output_type": "stream",
          "text": [
            "x shape (30,)\n",
            "Convoluted data shape:  (8376, 30, 3)\n",
            "data_app size (60, 90)\n",
            "data test size (120, 90)\n",
            "label test size (120,)\n",
            "Label App size (60,)\n",
            "profil_median (3, 30, 3)\n",
            "class1 (30, 3)\n"
          ],
          "name": "stdout"
        }
      ]
    },
    {
      "cell_type": "markdown",
      "metadata": {
        "id": "0kQraM64-NPM"
      },
      "source": [
        "Ce que nous comprenons des données :\r\n",
        "\r\n",
        "\r\n",
        "*   data_convoluted, c'est 8376 profils temporels de taille 30 chacun, associés aux axes x, y, z (3e coordonnée)\r\n",
        "*   En utilisant le vecteur \"labels\" on peut relier une donnée de data_convoluted à son label\r\n",
        "*   data_test c'est 40 * 3 données de data_convoluted (40 par classes) ou on a pour chacune le profil temporel selon x, y et z (de taille 30 chacun)\r\n",
        "*   data_app c'est 20 *3 données de data_convoluted (20 par classes), selectionné au hasard, ou on a pour chacune le profil temporel selon x, y et z (de taille 30 chacun)\r\n",
        "*   label_median c'est le profil médian pour chacune des classes (coordonnée1) sur les axes x y et z (coordonnées 3)\r\n",
        "\r\n",
        "\r\n",
        "\r\n",
        "\r\n",
        "\r\n",
        "\r\n",
        "\r\n",
        "\r\n"
      ]
    },
    {
      "cell_type": "code",
      "metadata": {
        "id": "k3hEsBSRqcX5",
        "colab": {
          "base_uri": "https://localhost:8080/"
        },
        "outputId": "d51ea17f-26be-4a67-c833-1bea3ad1383e"
      },
      "source": [
        "# Les données d'apprentissage de label 0\r\n",
        "Data_App_0 = Data_App[0:20, :]\r\n",
        "print(\"Data_App_0 size :\", np.shape(Data_App_0))\r\n",
        "\r\n",
        "# Les données d'apprentissage de label 1\r\n",
        "Data_App_1 = Data_App[20:40, :]\r\n",
        "print(\"Data_App_1 size :\", np.shape(Data_App_1))\r\n",
        "\r\n",
        "# Les données d'apprentissage de label 2\r\n",
        "Data_App_2 = Data_App[40:60, :]\r\n",
        "print(\"Data_App_2 size :\", np.shape(Data_App_2))\r\n"
      ],
      "execution_count": 11,
      "outputs": [
        {
          "output_type": "stream",
          "text": [
            "Data_App_0 size : (20, 90)\n",
            "Data_App_1 size : (20, 90)\n",
            "Data_App_2 size : (20, 90)\n"
          ],
          "name": "stdout"
        }
      ]
    },
    {
      "cell_type": "code",
      "metadata": {
        "id": "z1CcKHqguQ9r",
        "colab": {
          "base_uri": "https://localhost:8080/"
        },
        "outputId": "ec7362fe-6c30-428a-9a96-52604a0ad16e"
      },
      "source": [
        "# On sépare les données selon x y z\r\n",
        "\r\n",
        "# Pour la classe1\r\n",
        "Data_App_0_x = Data_App_0[:, 0:30]\r\n",
        "Data_App_0_y = Data_App_0[:, 30:60]\r\n",
        "Data_App_0_z = Data_App_0[:, 60:90]\r\n",
        "print(\"Data_App_0_x size : \", np.shape(Data_App_0_x))\r\n",
        "\r\n",
        "# Pour la classe 2\r\n",
        "Data_App_1_x = Data_App_1[:, 0:30]\r\n",
        "Data_App_1_y = Data_App_1[:, 30:60]\r\n",
        "Data_App_1_z = Data_App_1[:, 60:90]\r\n",
        "\r\n",
        "# Pour la classe 3\r\n",
        "Data_App_2_x = Data_App_2[:, 0:30]\r\n",
        "Data_App_2_y = Data_App_2[:, 30:60]\r\n",
        "Data_App_2_z = Data_App_2[:, 60:90]"
      ],
      "execution_count": 12,
      "outputs": [
        {
          "output_type": "stream",
          "text": [
            "Data_App_0_x size :  (20, 30)\n"
          ],
          "name": "stdout"
        }
      ]
    },
    {
      "cell_type": "code",
      "metadata": {
        "id": "ieBoD2lTEthm",
        "colab": {
          "base_uri": "https://localhost:8080/"
        },
        "outputId": "266bc6ae-e319-496c-8619-c537e474f20e"
      },
      "source": [
        "# Les données de test avec le label 0\r\n",
        "Data_Test_0 = Data_Test[0:40, :]\r\n",
        "print(\"Data_Test_0 size :\", np.shape(Data_Test_0))\r\n",
        "\r\n",
        "# Les données de test avec le label 1\r\n",
        "Data_Test_1 = Data_Test[40:80, :]\r\n",
        "print(\"Data_Test_1 size :\", np.shape(Data_Test_1))\r\n",
        "\r\n",
        "# Les données de test avec le label 2\r\n",
        "Data_Test_2 = Data_Test[80:, :]\r\n",
        "print(\"Data_Test_2 size :\", np.shape(Data_Test_2))"
      ],
      "execution_count": 13,
      "outputs": [
        {
          "output_type": "stream",
          "text": [
            "Data_Test_0 size : (40, 90)\n",
            "Data_Test_1 size : (40, 90)\n",
            "Data_Test_2 size : (40, 90)\n"
          ],
          "name": "stdout"
        }
      ]
    },
    {
      "cell_type": "code",
      "metadata": {
        "id": "rk7MlPHcvCRl",
        "colab": {
          "base_uri": "https://localhost:8080/"
        },
        "outputId": "fb9ebca7-af2e-4264-a8b1-49673e36d354"
      },
      "source": [
        "# On sépare les données selon x y z\r\n",
        "\r\n",
        "# Pour la classe1\r\n",
        "Data_Test_0_x = Data_Test_0[:, 0:30]\r\n",
        "Data_Test_0_y = Data_Test_0[:, 30:60]\r\n",
        "Data_Test_0_z = Data_Test_0[:, 60:90]\r\n",
        "Data_Test_0_xyz = np.stack((Data_Test_0_x, Data_Test_0_y, Data_Test_0_z), axis=2)\r\n",
        "print(\"Data_Test_0_x size :\", np.shape(Data_Test_0_x))\r\n",
        "print(\"Data_Test_0_xyz size:\", np.shape(Data_Test_0_xyz))\r\n",
        "\r\n",
        "# Pour la classe 2\r\n",
        "Data_Test_1_x = Data_Test_1[:, 0:30]\r\n",
        "Data_Test_1_y = Data_Test_1[:, 30:60]\r\n",
        "Data_Test_1_z = Data_Test_1[:, 60:90]\r\n",
        "Data_Test_1_xyz = np.stack((Data_Test_1_x, Data_Test_1_y, Data_Test_1_z), axis=2)\r\n",
        "print(\"Data_Test_1_xyz size: \", np.shape(Data_Test_1_xyz))\r\n",
        "\r\n",
        "# Pour la classe 3\r\n",
        "Data_Test_2_x = Data_Test_2[:, 0:30]\r\n",
        "Data_Test_2_y = Data_Test_2[:, 30:60]\r\n",
        "Data_Test_2_z = Data_Test_2[:, 60:90]\r\n",
        "Data_Test_2_xyz = np.stack((Data_Test_2_x, Data_Test_2_y, Data_Test_2_z), axis=2)\r\n",
        "print(\"Data_Test_2_xyz size: \", np.shape(Data_Test_2_xyz))"
      ],
      "execution_count": 14,
      "outputs": [
        {
          "output_type": "stream",
          "text": [
            "Data_Test_0_x size : (40, 30)\n",
            "Data_Test_0_xyz size: (40, 30, 3)\n",
            "Data_Test_1_xyz size:  (40, 30, 3)\n",
            "Data_Test_2_xyz size:  (40, 30, 3)\n"
          ],
          "name": "stdout"
        }
      ]
    },
    {
      "cell_type": "markdown",
      "metadata": {
        "id": "qf6ilRewlu-A"
      },
      "source": [
        "On détermine le profil moyen des classes d'apprentissage, selon leurs axes x, y et z"
      ]
    },
    {
      "cell_type": "code",
      "metadata": {
        "id": "1Y4ivIkZrf3c",
        "colab": {
          "base_uri": "https://localhost:8080/"
        },
        "outputId": "fb3790c3-ecc5-4b0e-9524-300ea8246dd9"
      },
      "source": [
        "# Les données médiane de la classe 1, sur les données d'apprentissage\r\n",
        "median_class_app_0 = profil_median[0, :, :]\r\n",
        "median_class_app_0_reshape = np.reshape(median_class_app_0, (90))\r\n",
        "print(\"median_class_app_0 size :\", np.shape(median_class_app_0))\r\n",
        "print(\"median_class_app_0_reshape size :\", np.shape(median_class_app_0_reshape))\r\n",
        "\r\n",
        "# Les données médiane de la classe 2, sur les données d'apprentissage\r\n",
        "median_class_app_1 = profil_median[1, :, :]\r\n",
        "median_class_app_1_reshape = np.reshape(median_class_app_1, (90))\r\n",
        "print(\"median_class_app_1 size :\", np.shape(median_class_app_1))\r\n",
        "print(\"median_class_app_1_reshape size :\", np.shape(median_class_app_1_reshape))\r\n",
        "\r\n",
        "# Les données médiane de la classe3, sur les données d'apprentissage\r\n",
        "median_class_app_2 = profil_median[2, :, :]\r\n",
        "median_class_app_2_reshape = np.reshape(median_class_app_2, (90))\r\n",
        "print(\"median_class_app_2 size :\", np.shape(median_class_app_2))\r\n",
        "print(\"median_class_app_2_reshape size :\", np.shape(median_class_app_2_reshape))\r\n"
      ],
      "execution_count": 15,
      "outputs": [
        {
          "output_type": "stream",
          "text": [
            "median_class_app_0 size : (30, 3)\n",
            "median_class_app_0_reshape size : (90,)\n",
            "median_class_app_1 size : (30, 3)\n",
            "median_class_app_1_reshape size : (90,)\n",
            "median_class_app_2 size : (30, 3)\n",
            "median_class_app_2_reshape size : (90,)\n"
          ],
          "name": "stdout"
        }
      ]
    },
    {
      "cell_type": "markdown",
      "metadata": {
        "id": "wkT4ZbvUmEG0"
      },
      "source": [
        "On fait pareil sur les classes de test"
      ]
    },
    {
      "cell_type": "code",
      "metadata": {
        "id": "F9fuqMj8faBW"
      },
      "source": [
        "# # Les données mediane de la classe 1, sur l'ensemble de t est\r\n",
        "# median_class_test_0 = np.median(Data_Test_0_xyz, axis=0)\r\n",
        "# median_class_test_0_reshape = np.reshape(median_class_test_0, (90))\r\n",
        "# print(\"median_class_test_0 size : \", np.shape(median_class_test_0))\r\n",
        "# print(\"median_class_test_0_reshape size : \", np.shape(median_class_test_0_reshape))\r\n",
        "\r\n",
        "# # Les données mediane de la classe 2, sur l'ensemble de test\r\n",
        "# median_class_test_1 = np.median(Data_Test_1_xyz, axis=0)\r\n",
        "# median_class_test_1_reshape = np.reshape(median_class_test_1, (90))\r\n",
        "# print(\"median_class_test_1 size : \", np.shape(median_class_test_1))\r\n",
        "# print(\"median_class_test_1_reshape size : \", np.shape(median_class_test_1_reshape))\r\n",
        "\r\n",
        "# # Les données mediane de la classe 3, sur l'ensemble de test\r\n",
        "# median_class_test_2 = np.median(Data_Test_2_xyz, axis=0)\r\n",
        "# median_class_test_3_reshape = np.reshape(median_class_test_2, (90))\r\n",
        "# print(\"median_class_test_2 size : \", np.shape(median_class_test_2))\r\n",
        "# print(\"median_class_test_2_reshape size : \", np.shape(median_class_test_2_reshape))\r\n"
      ],
      "execution_count": 16,
      "outputs": []
    },
    {
      "cell_type": "code",
      "metadata": {
        "id": "uUGdEk92snKf"
      },
      "source": [
        "# On compare les profils temporels de chaque données test de label 0 avec le profil médian des classes 0, 1 et 2\r\n",
        "nb_data = 40\r\n",
        "res_0 = np.zeros((40, 3))\r\n",
        "for i in range(0, 40):\r\n",
        "  res_0[i, 0] = score_DTW(DTW_Matrix(Data_Test_0[i, :], median_class_app_0_reshape))\r\n",
        "  res_0[i, 1] = score_DTW(DTW_Matrix(Data_Test_0[i, :], median_class_app_1_reshape))\r\n",
        "  res_0[i, 2] = score_DTW(DTW_Matrix(Data_Test_0[i, :], median_class_app_2_reshape))"
      ],
      "execution_count": 17,
      "outputs": []
    },
    {
      "cell_type": "markdown",
      "metadata": {
        "id": "HCTHDb_d17n2"
      },
      "source": [
        "Pour chacune des données test 0, on regarde à quel classe est ce que la donnée est attribuée"
      ]
    },
    {
      "cell_type": "code",
      "metadata": {
        "id": "XAddxkDK17SB"
      },
      "source": [
        "classe_res_0 = np.zeros((40, 1))\r\n",
        "for i in range(0, 40):\r\n",
        "  classe_res_0[i] = np.argmin(res_0[i, :])"
      ],
      "execution_count": 18,
      "outputs": []
    },
    {
      "cell_type": "markdown",
      "metadata": {
        "id": "JznSCZIC2h7h"
      },
      "source": [
        "On regarde le taux de réussite de notre méthode"
      ]
    },
    {
      "cell_type": "code",
      "metadata": {
        "id": "gYt-a8sE2whU",
        "colab": {
          "base_uri": "https://localhost:8080/"
        },
        "outputId": "5840ec0b-f125-4528-a4ce-b4f04bfe7769"
      },
      "source": [
        "s = 0\r\n",
        "for i in range(0, 40):\r\n",
        "  if classe_res_0[i] == 0:\r\n",
        "    s +=1\r\n",
        "print(s, \" données test de la classe 0 ont été attribué à la bonne classe sur 40, ce qui donne un taux de réussite de \", 100*(s/40), \" %\")"
      ],
      "execution_count": 19,
      "outputs": [
        {
          "output_type": "stream",
          "text": [
            "32  données test de la classe 0 ont été attribué à la bonne classe sur 40, ce qui donne un taux de réussite de  80.0  %\n"
          ],
          "name": "stdout"
        }
      ]
    },
    {
      "cell_type": "markdown",
      "metadata": {
        "id": "xVCVuxAg3gxl"
      },
      "source": [
        "On fait pareil pour Data_App_1 et Data_App_2"
      ]
    },
    {
      "cell_type": "code",
      "metadata": {
        "id": "fuzMlYwl3pKA",
        "colab": {
          "base_uri": "https://localhost:8080/"
        },
        "outputId": "82db19f6-3814-49a8-a88c-ced3dd3533fe"
      },
      "source": [
        "# Pour chacune des données de Data_Test_1, on calcule leur distance DTW avec le profil moyen de la classe 1, ainsi que des classe 0 et 2.\r\n",
        "nb_data = 40\r\n",
        "res_1 = np.zeros((nb_data, 3))\r\n",
        "for i in range(0, nb_data):\r\n",
        "  res_1[i, 0] = score_DTW(DTW_Matrix(Data_Test_1[i, :], median_class_app_0_reshape))\r\n",
        "  res_1[i, 1] = score_DTW(DTW_Matrix(Data_Test_1[i, :], median_class_app_1_reshape))\r\n",
        "  res_1[i, 2] = score_DTW(DTW_Matrix(Data_Test_1[i, :], median_class_app_2_reshape))\r\n",
        "\r\n",
        "# classe_res donne, pour chaque données de Data_App_1, la classe à laquelle la donnée est associée\r\n",
        "classe_res_1 = np.zeros((40, 1))\r\n",
        "for i in range(0, 40):\r\n",
        "  classe_res_1[i] = np.argmin(res_1[i, :])\r\n",
        "\r\n",
        "# Le résultat\r\n",
        "s = 0\r\n",
        "for i in range(0, 40):\r\n",
        "  if classe_res_1[i] == 1:\r\n",
        "    s +=1\r\n",
        "print(s, \" données test de la classe 1 ont été attribué à la bonne classe sur 40, ce qui donne un taux de réussite de \", 100*(s/40), \" %\")\r\n"
      ],
      "execution_count": 20,
      "outputs": [
        {
          "output_type": "stream",
          "text": [
            "30  données test de la classe 1 ont été attribué à la bonne classe sur 40, ce qui donne un taux de réussite de  75.0  %\n"
          ],
          "name": "stdout"
        }
      ]
    },
    {
      "cell_type": "code",
      "metadata": {
        "id": "4PyU_2RV5J_N",
        "colab": {
          "base_uri": "https://localhost:8080/"
        },
        "outputId": "7d7d6770-eb00-4264-a329-ae3786cb922d"
      },
      "source": [
        "# Pour chacune des données de Data_Test_2, on calcule leur distance DTW avec le profil moyen de la classe 2, ainsi que des classe 0 et 1.\r\n",
        "nb_data = 40\r\n",
        "res_2 = np.zeros((40, 3))\r\n",
        "for i in range(0, 40):\r\n",
        "  res_2[i, 0] = score_DTW(DTW_Matrix(Data_Test_2[i, :], median_class_app_0_reshape))\r\n",
        "  res_2[i, 1] = score_DTW(DTW_Matrix(Data_Test_2[i, :], median_class_app_1_reshape))\r\n",
        "  res_2[i, 2] = score_DTW(DTW_Matrix(Data_Test_2[i, :], median_class_app_2_reshape))\r\n",
        "\r\n",
        "# classe_res donne, pour chaque donnée de Data_App_2, la classe à laqelle la donnée est associée\r\n",
        "classe_res_2 = np.zeros((40, 1))\r\n",
        "for i in range(0, 40):\r\n",
        "  classe_res_2[i] = np.argmin(res_2[i, :])\r\n",
        "\r\n",
        "s = 0\r\n",
        "for i in range(0, 40):\r\n",
        "  if classe_res_2[i] == 2:\r\n",
        "    s +=1\r\n",
        "print(s, \" données test de la classe 3 ont été attribué à la bonne classe sur 40, ce qui donne un taux de réussite de \", 100*(s/40), \" %\")"
      ],
      "execution_count": 21,
      "outputs": [
        {
          "output_type": "stream",
          "text": [
            "17  données test de la classe 3 ont été attribué à la bonne classe sur 40, ce qui donne un taux de réussite de  42.5  %\n"
          ],
          "name": "stdout"
        }
      ]
    },
    {
      "cell_type": "markdown",
      "metadata": {
        "id": "eaPl0ZdmXTPG"
      },
      "source": [
        "3. A partir de la partition de l'ensemble test obtenue après la DTW, calculer la matrice de confusion qui recense le nombre de données bien classés et mal classés."
      ]
    },
    {
      "cell_type": "markdown",
      "metadata": {
        "id": "N2P0tIvA7ZMp"
      },
      "source": [
        "On calcule à présent la matrice de confusion"
      ]
    },
    {
      "cell_type": "code",
      "metadata": {
        "id": "63PzEXZI7ccE",
        "colab": {
          "base_uri": "https://localhost:8080/",
          "height": 371
        },
        "outputId": "d24ce6b2-1e51-4028-c22b-1fb78406a93c"
      },
      "source": [
        "matrice_confusion = np.zeros((3, 3))\r\n",
        "\r\n",
        "# Première ligne\r\n",
        "for i in range(0, 40):\r\n",
        "  if classe_res_0[i] == 0:\r\n",
        "    matrice_confusion[0, 0] += 1\r\n",
        "  elif classe_res_0[i] == 1:\r\n",
        "    matrice_confusion[0, 1] += 1\r\n",
        "  else :\r\n",
        "    matrice_confusion[0, 2] += 1\r\n",
        "\r\n",
        "# Deuxième ligne\r\n",
        "for i in range(0, 40):\r\n",
        "  if classe_res_1[i] == 0:\r\n",
        "    matrice_confusion[1, 0] += 1\r\n",
        "  elif classe_res_1[i] == 1:\r\n",
        "    matrice_confusion[1, 1] += 1\r\n",
        "  else :\r\n",
        "    matrice_confusion[1, 2] += 1\r\n",
        "\r\n",
        "# Troisième ligne\r\n",
        "for i in range(0, 40):\r\n",
        "  if classe_res_2[i] == 0:\r\n",
        "    matrice_confusion[2, 0] += 1\r\n",
        "  elif classe_res_2[i] == 1:\r\n",
        "    matrice_confusion[2, 1] += 1\r\n",
        "  else :\r\n",
        "    matrice_confusion[2, 2] += 1\r\n",
        "\r\n",
        "# Print\r\n",
        "print(matrice_confusion)\r\n",
        "fig, ax = plt.subplots()\r\n",
        "ax.imshow(matrice_confusion)\r\n",
        "\r\n",
        "# Annotation\r\n",
        "for i in range(0, 3):\r\n",
        "    for j in range(0, 3):\r\n",
        "        text = ax.text(j, i, matrice_confusion[i, j],\r\n",
        "                       ha=\"center\", va=\"center\", color=\"w\")\r\n",
        "\r\n",
        "accuracy_0 = matrice_confusion[0, 0] / (matrice_confusion[0, 0] + matrice_confusion[0, 1] + matrice_confusion[0, 2])\r\n",
        "accuracy_1 = matrice_confusion[1, 1] / (matrice_confusion[1, 0] + matrice_confusion[1, 1] + matrice_confusion[1, 2])\r\n",
        "accuracy_2 = matrice_confusion[2, 2] / (matrice_confusion[2, 0] + matrice_confusion[2, 1] + matrice_confusion[2, 2])\r\n",
        "\r\n",
        "print(\"Le taux de bonne prédiction sur la classe 0 est de :\", accuracy_0*100, \"%\")\r\n",
        "print(\"Le taux de bonne prédiction sur la classe 1 est de :\", accuracy_1*100, \"%\")\r\n",
        "print(\"Le taux de bonne prédiction sur la classe 2 est de :\", accuracy_2*100, \"%\")"
      ],
      "execution_count": 22,
      "outputs": [
        {
          "output_type": "stream",
          "text": [
            "[[32.  5.  3.]\n",
            " [10. 30.  0.]\n",
            " [21.  2. 17.]]\n",
            "Le taux de bonne prédiction sur la classe 0 est de : 80.0 %\n",
            "Le taux de bonne prédiction sur la classe 1 est de : 75.0 %\n",
            "Le taux de bonne prédiction sur la classe 2 est de : 42.5 %\n"
          ],
          "name": "stdout"
        },
        {
          "output_type": "display_data",
          "data": {
            "image/png": "[encoded data removed]",
            "text/plain": [
              "<Figure size 432x288 with 1 Axes>"
            ]
          },
          "metadata": {
            "tags": [],
            "needs_background": "light"
          }
        }
      ]
    },
    {
      "cell_type": "markdown",
      "metadata": {
        "id": "w1OEYxfB388E"
      },
      "source": [
        "Les résultats sont plutôt satisfaisant ... On constate que la méthode DTW est plutôt efficace"
      ]
    },
    {
      "cell_type": "markdown",
      "metadata": {
        "id": "Ys5z7jNFXTPH"
      },
      "source": [
        "# Partie II : Réduction de dimension par ACP et classification par kppv \n",
        "\n",
        "Dans cette partie, nous allons comparer les résultats de la DTW avec ceux d'une méthode de classification de données : les k-plus proches voisins.\n",
        "\n",
        "Nous utiliserons les fonctions permettant de calculer l'ACP et les kppv via la librairie python *scikit-learn*.\n",
        "\n",
        "\n"
      ]
    },
    {
      "cell_type": "code",
      "metadata": {
        "id": "xj579PG8XTPH"
      },
      "source": [
        "from sklearn.decomposition import PCA"
      ],
      "execution_count": 23,
      "outputs": []
    },
    {
      "cell_type": "markdown",
      "metadata": {
        "id": "tdF2ZlckXTPH"
      },
      "source": [
        "### Prétraitement par ACP\n",
        "\n",
        "Pour tester une autre méthode de classification, \n",
        "\n",
        "1. A partir des données Data_App de la base d'apprentissage et en utilisant la fonction *PCA* de la librairie *scikit-learn*, calculez les 3 axes principaux de l'ACP en\n",
        "extrayant les 3 vecteurs propres, notés $X_1$, $X_2$, $X_3$, associés aux 3 plus grandes valeurs propres de la matrice de\n",
        "variance-covariance $\\Sigma_{App}$.Ces vecteurs propres constitueront la nouvelle base de données.\n",
        "\n",
        "2. Projetez les données de la base d'apprentissage et de test dans cette nouvelle base en multipliant chaque\n",
        "vecteur par la base $P = [X_1X_2X_3]$.\n",
        "\n",
        "*Remarque :* vous pouvez aussi implémenter l'ACP en\n",
        "extrayant les 3 vecteurs propres, notés $X_1$, $X_2$, $X_3$, associés aux 3 plus grandes valeurs propres de la matrice de\n",
        "variance-covariance $\\Sigma_{App}$ (par les fonctions *np.cov* et *np.linalg.eig*). Ces vecteurs propres constitueront le nouveau repère P.  Projetez ensuite les données de la base d'apprentissage et de test dans cette nouvelle base en multipliant chaque vecteur par la base $P = [X_1X_2X_3]$.\n",
        "\n",
        "\n"
      ]
    },
    {
      "cell_type": "code",
      "metadata": {
        "id": "dkAWIBR4XTPI"
      },
      "source": [
        "from sklearn.neighbors import KNeighborsClassifier"
      ],
      "execution_count": 24,
      "outputs": []
    },
    {
      "cell_type": "markdown",
      "metadata": {
        "id": "WNUINCQHXTPI"
      },
      "source": [
        "### Classification par k plus proches voisins\n",
        "\n",
        "En intelligence artificielle, la méthode des k plus proches voisins (k-ppv) est une méthode d'apprentissage\n",
        "supervisé. Dans ce cadre, on dispose d'une base de données d'apprentissage constituée de couples  \"donnée-label\". Pour estimer la sortie associée à une nouvelle entrée x, la méthode des k plus proches voisins consiste à prendre\n",
        "en compte (de façon identique) les k échantillons d'apprentissage dont l'entrée est la plus proche de la nouvelle\n",
        "entrée x, selon une distance à définir. L'algorithme 1 associé et un exemple (figure 1) sont données par la suite.\n",
        "\n",
        "<img src=\"files/AlgoKppv.png\" width=\"900\" height=\"800\"  >\n",
        "\n",
        "<img src=\"files/kppv.png\" width=\"300\" height=\"300\"  >\n",
        "\n",
        "**Exemple de classification par k-ppv.** L'échantillon de test (cercle vert) doit être classé soit dans la première\n",
        "classe des carrés bleus, soit dans la deuxième classe des triangles rouges. \n",
        "Si k = 3 (cercle plein), il est assigné à la deuxième classe parce qu'il y a 2 triangles et seulement 1 carré à l'intérieur du cercle intérieur. \n",
        "Si k = 5 (cercle en pointillés), il est assigné à la première classe (3 carrés contre 2 triangles à l'intérieur du cercle extérieur)\n",
        "\n",
        "\n",
        "1. En utilisant la fonction *KNeighborsClassifier* de la librairie *sklearn.neighbors*, réalisez une classification par k-ppv sur la base d'apprentissage et la base de test que vous avez prédéfinies (prendre $k=1$).\n",
        "\n",
        "2. Evaluez la méthode des k-ppv par le calcul de la matrice de confusion et du taux de reconnaissance.\n",
        "\n",
        "3. Modifiez la valeur de $k$ pour les k-ppv. Améliorez-vous les scores de reconnaissance ?\n",
        "\n",
        "4. Comparez vos résultats avec ceux de la DTW.\n",
        "\n",
        "\n",
        "\n",
        "\n"
      ]
    },
    {
      "cell_type": "markdown",
      "metadata": {
        "id": "F_WKsDvL6Y6p"
      },
      "source": [
        "On réalise l'ACP sur les vecteurs de la base d'apprentissage"
      ]
    },
    {
      "cell_type": "code",
      "metadata": {
        "id": "zKPGIR8dXTPJ"
      },
      "source": [
        "# ACP de data app\r\n",
        "pca_app = PCA(n_components=3)\r\n",
        "pca_app.fit(Data_App)\r\n",
        "Eigenvalue_ACP = pca_app.components_"
      ],
      "execution_count": 25,
      "outputs": []
    },
    {
      "cell_type": "code",
      "metadata": {
        "colab": {
          "base_uri": "https://localhost:8080/"
        },
        "id": "u0_Z6EXzSEce",
        "outputId": "cfda147b-5932-4e64-82c5-e8fd03b6b5ee"
      },
      "source": [
        "# projection des données de test sur les vecteurs de l'ACP\r\n",
        "print(\"base ACP shape : \", np.shape(Eigenvalue_ACP))"
      ],
      "execution_count": 26,
      "outputs": [
        {
          "output_type": "stream",
          "text": [
            "base ACP shape :  (3, 90)\n"
          ],
          "name": "stdout"
        }
      ]
    },
    {
      "cell_type": "code",
      "metadata": {
        "id": "4yfEbWsHSMm1"
      },
      "source": [
        "projection_app = np.dot(Data_App, (Eigenvalue_ACP).T)\r\n",
        "projection_test = np.dot(Data_Test, (Eigenvalue_ACP).T)"
      ],
      "execution_count": 27,
      "outputs": []
    },
    {
      "cell_type": "code",
      "metadata": {
        "colab": {
          "base_uri": "https://localhost:8080/"
        },
        "id": "17nE4-x1TbMI",
        "outputId": "1ad20674-45fb-4c93-caf4-d345235f7ac8"
      },
      "source": [
        "print(\"shape de data_app projeté :\", np.shape(projection_app))\r\n",
        "print(\"shape de data_test projeté :\", np.shape(projection_test))"
      ],
      "execution_count": 28,
      "outputs": [
        {
          "output_type": "stream",
          "text": [
            "shape de data_app projeté : (60, 3)\n",
            "shape de data_test projeté : (120, 3)\n"
          ],
          "name": "stdout"
        }
      ]
    },
    {
      "cell_type": "markdown",
      "metadata": {
        "id": "AEh38zPvTh0w"
      },
      "source": [
        "Les données de test sont maintenant en 3 dimension. On peut les visualiser"
      ]
    },
    {
      "cell_type": "code",
      "metadata": {
        "colab": {
          "base_uri": "https://localhost:8080/",
          "height": 265
        },
        "id": "kMds7kYyTkmY",
        "outputId": "1a98e6bd-4b05-441e-e082-d06c8a480b73"
      },
      "source": [
        "import matplotlib.pyplot as plt\r\n",
        "from mpl_toolkits.mplot3d import Axes3D\r\n",
        "from sklearn.preprocessing import normalize\r\n",
        "\r\n",
        "# Création de la figure\r\n",
        "fig = plt.figure()\r\n",
        "ax3D = fig.add_subplot(111, projection='3d')\r\n",
        "\r\n",
        "# Normalization\r\n",
        "projection_test_normalized = normalize(projection_test, axis=0)\r\n",
        "\r\n",
        "# On sépare par labels\r\n",
        "p3d_0 = projection_test_normalized[0:40, :]\r\n",
        "p3d_1 = projection_test_normalized[40:80, :]\r\n",
        "p3d_2 = projection_test_normalized[80:120, :]\r\n",
        "\r\n",
        "# Tracé\r\n",
        "p3d = ax3D.scatter(p3d_0[:, 0], p3d_0[:, 1], p3d_0[:, 2], zdir='z', s=20, c='red', depthshade=True) \r\n",
        "p3d = ax3D.scatter(p3d_1[:, 0], p3d_1[:, 1], p3d_1[:, 2], zdir='z', s=20, c='blue', depthshade=True) \r\n",
        "p3d = ax3D.scatter(p3d_2[:, 0], p3d_2[:, 1], p3d_2[:, 2], zdir='z', s=20, c='green', depthshade=True) \r\n",
        "\r\n",
        "# Axes\r\n",
        "ax3D.set_xlabel('X Label')\r\n",
        "ax3D.set_ylabel('Y Label')\r\n",
        "ax3D.set_zlabel('Z Label')"
      ],
      "execution_count": 29,
      "outputs": [
        {
          "output_type": "execute_result",
          "data": {
            "text/plain": [
              "Text(0.5, 0, 'Z Label')"
            ]
          },
          "metadata": {
            "tags": []
          },
          "execution_count": 29
        },
        {
          "output_type": "display_data",
          "data": {
            "image/png": "[encoded data removed]",
            "text/plain": [
              "<Figure size 432x288 with 1 Axes>"
            ]
          },
          "metadata": {
            "tags": [],
            "needs_background": "light"
          }
        }
      ]
    },
    {
      "cell_type": "code",
      "metadata": {
        "colab": {
          "base_uri": "https://localhost:8080/"
        },
        "id": "blGNRGWqXaed",
        "outputId": "a8965a01-80e0-4b5f-9cdc-ada5c5bd896a"
      },
      "source": [
        "neigh = KNeighborsClassifier(n_neighbors=1)\r\n",
        "neigh.fit(Data_App, Label_App)"
      ],
      "execution_count": 30,
      "outputs": [
        {
          "output_type": "execute_result",
          "data": {
            "text/plain": [
              "KNeighborsClassifier(algorithm='auto', leaf_size=30, metric='minkowski',\n",
              "                     metric_params=None, n_jobs=None, n_neighbors=1, p=2,\n",
              "                     weights='uniform')"
            ]
          },
          "metadata": {
            "tags": []
          },
          "execution_count": 30
        }
      ]
    },
    {
      "cell_type": "markdown",
      "metadata": {
        "id": "RZTU28rhnbJR"
      },
      "source": [
        "On commence par appliquer l'algorithme KPPV, avec k=1 sans utiliser l'ACP. On testera ensuite avec ACP et on comparera les résultats. \r\n",
        "Dans un troisième temps, on appliquera l'algorithme KPPV aux donnéees projetées de l'ACP avec k plus grand"
      ]
    },
    {
      "cell_type": "code",
      "metadata": {
        "id": "RyA9WZF6mk5W"
      },
      "source": [
        "prediction_test_0 = neigh.predict(Data_Test_0)\r\n",
        "prediction_test_1 = neigh.predict(Data_Test_1)\r\n",
        "prediction_test_2 = neigh.predict(Data_Test_2)"
      ],
      "execution_count": 31,
      "outputs": []
    },
    {
      "cell_type": "code",
      "metadata": {
        "colab": {
          "base_uri": "https://localhost:8080/",
          "height": 320
        },
        "id": "PTwofUXgnFp7",
        "outputId": "0b1367b5-29f5-4407-f73f-5d3cb0801dd3"
      },
      "source": [
        "# On regarde les résultats de KKPV sur les données de base, avec k = 1\r\n",
        "matrice_confusion = np.zeros((3, 3))\r\n",
        "for i in range (0, 40):\r\n",
        "  matrice_confusion[0, int(prediction_test_0[i])] += 1\r\n",
        "for i in range (0, 40):\r\n",
        "  matrice_confusion[1, int(prediction_test_1[i])] += 1\r\n",
        "for i in range (0, 40):\r\n",
        "  matrice_confusion[2, int(prediction_test_2[i])] +=1\r\n",
        "\r\n",
        "# Print\r\n",
        "print(matrice_confusion)\r\n",
        "fig, ax = plt.subplots()\r\n",
        "ax.imshow(matrice_confusion)\r\n",
        "\r\n",
        "# Annotation\r\n",
        "for i in range(0, 3):\r\n",
        "    for j in range(0, 3):\r\n",
        "        text = ax.text(j, i, matrice_confusion[i, j],\r\n",
        "                       ha=\"center\", va=\"center\", color=\"w\")"
      ],
      "execution_count": 32,
      "outputs": [
        {
          "output_type": "stream",
          "text": [
            "[[25.  1. 14.]\n",
            " [16. 12. 12.]\n",
            " [ 1.  1. 38.]]\n"
          ],
          "name": "stdout"
        },
        {
          "output_type": "display_data",
          "data": {
            "image/png": "[encoded data removed]",
            "text/plain": [
              "<Figure size 432x288 with 1 Axes>"
            ]
          },
          "metadata": {
            "tags": [],
            "needs_background": "light"
          }
        }
      ]
    },
    {
      "cell_type": "code",
      "metadata": {
        "id": "b4vqzblPp1O1"
      },
      "source": [
        "accuracy_0 = matrice_confusion[0, 0] / (matrice_confusion[0, 0] + matrice_confusion[0, 1] + matrice_confusion[0, 2])\r\n",
        "accuracy_1 = matrice_confusion[1, 1] / (matrice_confusion[1, 0] + matrice_confusion[1, 1] + matrice_confusion[1, 2])\r\n",
        "accuracy_2 = matrice_confusion[2, 2] / (matrice_confusion[2, 0] + matrice_confusion[2, 1] + matrice_confusion[2, 2])"
      ],
      "execution_count": 33,
      "outputs": []
    },
    {
      "cell_type": "code",
      "metadata": {
        "colab": {
          "base_uri": "https://localhost:8080/"
        },
        "id": "9NTH1DOTqItl",
        "outputId": "5b226e49-a551-4bd4-9dfd-02417a3f626c"
      },
      "source": [
        "print(\"Le taux de bonne prédiction sur la classe 0 est de :\", accuracy_0*100, \"%\")\r\n",
        "print(\"Le taux de bonne prédiction sur la classe 1 est de :\", accuracy_1*100, \"%\")\r\n",
        "print(\"Le taux de bonne prédiction sur la classe 2 est de :\", accuracy_2*100, \"%\")"
      ],
      "execution_count": 34,
      "outputs": [
        {
          "output_type": "stream",
          "text": [
            "Le taux de bonne prédiction sur la classe 0 est de : 62.5 %\n",
            "Le taux de bonne prédiction sur la classe 1 est de : 30.0 %\n",
            "Le taux de bonne prédiction sur la classe 2 est de : 95.0 %\n"
          ],
          "name": "stdout"
        }
      ]
    },
    {
      "cell_type": "markdown",
      "metadata": {
        "id": "CZnRa0nOqSxz"
      },
      "source": [
        "On teste maintenant sur les résultats projetés sur les vecteurs de l'ACP"
      ]
    },
    {
      "cell_type": "code",
      "metadata": {
        "colab": {
          "base_uri": "https://localhost:8080/"
        },
        "id": "g75BVG5CqXUN",
        "outputId": "869aad2f-26a8-4cda-8686-e0c76653b807"
      },
      "source": [
        "neigh = KNeighborsClassifier(n_neighbors=1)\r\n",
        "neigh.fit(projection_app, Label_App)"
      ],
      "execution_count": 35,
      "outputs": [
        {
          "output_type": "execute_result",
          "data": {
            "text/plain": [
              "KNeighborsClassifier(algorithm='auto', leaf_size=30, metric='minkowski',\n",
              "                     metric_params=None, n_jobs=None, n_neighbors=1, p=2,\n",
              "                     weights='uniform')"
            ]
          },
          "metadata": {
            "tags": []
          },
          "execution_count": 35
        }
      ]
    },
    {
      "cell_type": "code",
      "metadata": {
        "id": "mWkjEKhZr_YD"
      },
      "source": [
        "prediction_test_0 = neigh.predict(projection_test[0:40, :])\r\n",
        "prediction_test_1 = neigh.predict(projection_test[40:80, :])\r\n",
        "prediction_test_2 = neigh.predict(projection_test[80:120, :])"
      ],
      "execution_count": 36,
      "outputs": []
    },
    {
      "cell_type": "code",
      "metadata": {
        "colab": {
          "base_uri": "https://localhost:8080/",
          "height": 320
        },
        "id": "RRcVcJKBsX10",
        "outputId": "6b95f38a-3672-43da-ab24-441f068aaab6"
      },
      "source": [
        "# On regarde les résultats de KKPV sur les données de base, avec k = 1\r\n",
        "matrice_confusion = np.zeros((3, 3))\r\n",
        "for i in range (0, 40):\r\n",
        "  matrice_confusion[0, int(prediction_test_0[i])] += 1\r\n",
        "for i in range (0, 40):\r\n",
        "  matrice_confusion[1, int(prediction_test_1[i])] += 1\r\n",
        "for i in range (0, 40):\r\n",
        "  matrice_confusion[2, int(prediction_test_2[i])] +=1\r\n",
        "\r\n",
        "# Print\r\n",
        "print(matrice_confusion)\r\n",
        "fig, ax = plt.subplots()\r\n",
        "ax.imshow(matrice_confusion)\r\n",
        "\r\n",
        "# Annotation\r\n",
        "for i in range(0, 3):\r\n",
        "    for j in range(0, 3):\r\n",
        "        text = ax.text(j, i, matrice_confusion[i, j],\r\n",
        "                       ha=\"center\", va=\"center\", color=\"w\")"
      ],
      "execution_count": 37,
      "outputs": [
        {
          "output_type": "stream",
          "text": [
            "[[28.  9.  3.]\n",
            " [10. 26.  4.]\n",
            " [ 0.  2. 38.]]\n"
          ],
          "name": "stdout"
        },
        {
          "output_type": "display_data",
          "data": {
            "image/png": "[encoded data removed]",
            "text/plain": [
              "<Figure size 432x288 with 1 Axes>"
            ]
          },
          "metadata": {
            "tags": [],
            "needs_background": "light"
          }
        }
      ]
    },
    {
      "cell_type": "code",
      "metadata": {
        "id": "o7SQ0MdPsiwJ"
      },
      "source": [
        "accuracy_0 = matrice_confusion[0, 0] / (matrice_confusion[0, 0] + matrice_confusion[0, 1] + matrice_confusion[0, 2])\r\n",
        "accuracy_1 = matrice_confusion[1, 1] / (matrice_confusion[1, 0] + matrice_confusion[1, 1] + matrice_confusion[1, 2])\r\n",
        "accuracy_2 = matrice_confusion[2, 2] / (matrice_confusion[2, 0] + matrice_confusion[2, 1] + matrice_confusion[2, 2])"
      ],
      "execution_count": 38,
      "outputs": []
    },
    {
      "cell_type": "code",
      "metadata": {
        "colab": {
          "base_uri": "https://localhost:8080/"
        },
        "id": "f-LhJElUseWX",
        "outputId": "dcda7d8c-dd76-4801-8a97-1330c4e825cb"
      },
      "source": [
        "print(\"Le taux de bonne prédiction sur la classe 0 est de :\", accuracy_0*100, \"%\")\r\n",
        "print(\"Le taux de bonne prédiction sur la classe 1 est de :\", accuracy_1*100, \"%\")\r\n",
        "print(\"Le taux de bonne prédiction sur la classe 2 est de :\", accuracy_2*100, \"%\")"
      ],
      "execution_count": 39,
      "outputs": [
        {
          "output_type": "stream",
          "text": [
            "Le taux de bonne prédiction sur la classe 0 est de : 70.0 %\n",
            "Le taux de bonne prédiction sur la classe 1 est de : 65.0 %\n",
            "Le taux de bonne prédiction sur la classe 2 est de : 95.0 %\n"
          ],
          "name": "stdout"
        }
      ]
    },
    {
      "cell_type": "markdown",
      "metadata": {
        "id": "3a23tkgutPHn"
      },
      "source": [
        "On constate que l'ACP augmente que légèrement les résultats. Nous allons tester le même algorithme avec k=3 et k=5"
      ]
    },
    {
      "cell_type": "markdown",
      "metadata": {
        "id": "lJvj-SwOtXm4"
      },
      "source": [
        "**k=3**"
      ]
    },
    {
      "cell_type": "code",
      "metadata": {
        "colab": {
          "base_uri": "https://localhost:8080/",
          "height": 371
        },
        "id": "Mz7Oc1TCtY3X",
        "outputId": "78cc8506-5306-49c3-b7aa-13e1954d70f6"
      },
      "source": [
        "neigh = KNeighborsClassifier(n_neighbors=3)\r\n",
        "neigh.fit(projection_app, Label_App)\r\n",
        "\r\n",
        "prediction_test_0 = neigh.predict(projection_test[0:40, :])\r\n",
        "prediction_test_1 = neigh.predict(projection_test[40:80, :])\r\n",
        "prediction_test_2 = neigh.predict(projection_test[80:120, :])\r\n",
        "\r\n",
        "# On regarde les résultats de KKPV sur les données de base, avec k = 1\r\n",
        "matrice_confusion = np.zeros((3, 3))\r\n",
        "for i in range (0, 40):\r\n",
        "  matrice_confusion[0, int(prediction_test_0[i])] += 1\r\n",
        "for i in range (0, 40):\r\n",
        "  matrice_confusion[1, int(prediction_test_1[i])] += 1\r\n",
        "for i in range (0, 40):\r\n",
        "  matrice_confusion[2, int(prediction_test_2[i])] +=1\r\n",
        "\r\n",
        "# Print\r\n",
        "print(matrice_confusion)\r\n",
        "fig, ax = plt.subplots()\r\n",
        "ax.imshow(matrice_confusion)\r\n",
        "\r\n",
        "# Annotation\r\n",
        "for i in range(0, 3):\r\n",
        "    for j in range(0, 3):\r\n",
        "        text = ax.text(j, i, matrice_confusion[i, j],\r\n",
        "                       ha=\"center\", va=\"center\", color=\"w\")\r\n",
        "        \r\n",
        "accuracy_0 = matrice_confusion[0, 0] / (matrice_confusion[0, 0] + matrice_confusion[0, 1] + matrice_confusion[0, 2])\r\n",
        "accuracy_1 = matrice_confusion[1, 1] / (matrice_confusion[1, 0] + matrice_confusion[1, 1] + matrice_confusion[1, 2])\r\n",
        "accuracy_2 = matrice_confusion[2, 2] / (matrice_confusion[2, 0] + matrice_confusion[2, 1] + matrice_confusion[2, 2])\r\n",
        "\r\n",
        "print(\"Le taux de bonne prédiction sur la classe 0 est de :\", accuracy_0*100, \"%\")\r\n",
        "print(\"Le taux de bonne prédiction sur la classe 1 est de :\", accuracy_1*100, \"%\")\r\n",
        "print(\"Le taux de bonne prédiction sur la classe 2 est de :\", accuracy_2*100, \"%\")"
      ],
      "execution_count": 40,
      "outputs": [
        {
          "output_type": "stream",
          "text": [
            "[[31.  5.  4.]\n",
            " [17. 19.  4.]\n",
            " [ 0.  2. 38.]]\n",
            "Le taux de bonne prédiction sur la classe 0 est de : 77.5 %\n",
            "Le taux de bonne prédiction sur la classe 1 est de : 47.5 %\n",
            "Le taux de bonne prédiction sur la classe 2 est de : 95.0 %\n"
          ],
          "name": "stdout"
        },
        {
          "output_type": "display_data",
          "data": {
            "image/png": "[encoded data removed]",
            "text/plain": [
              "<Figure size 432x288 with 1 Axes>"
            ]
          },
          "metadata": {
            "tags": [],
            "needs_background": "light"
          }
        }
      ]
    },
    {
      "cell_type": "markdown",
      "metadata": {
        "id": "mTktyWRntyLO"
      },
      "source": [
        "**k = 5**"
      ]
    },
    {
      "cell_type": "code",
      "metadata": {
        "colab": {
          "base_uri": "https://localhost:8080/",
          "height": 371
        },
        "id": "RwZUhzWWt1dv",
        "outputId": "ad0f36a2-1cb3-4670-e2f8-e3a39efd516c"
      },
      "source": [
        "neigh = KNeighborsClassifier(n_neighbors=5)\r\n",
        "neigh.fit(projection_app, Label_App)\r\n",
        "\r\n",
        "prediction_test_0 = neigh.predict(projection_test[0:40, :])\r\n",
        "prediction_test_1 = neigh.predict(projection_test[40:80, :])\r\n",
        "prediction_test_2 = neigh.predict(projection_test[80:120, :])\r\n",
        "\r\n",
        "# On regarde les résultats de KKPV sur les données de base, avec k = 1\r\n",
        "matrice_confusion = np.zeros((3, 3))\r\n",
        "for i in range (0, 40):\r\n",
        "  matrice_confusion[0, int(prediction_test_0[i])] += 1\r\n",
        "for i in range (0, 40):\r\n",
        "  matrice_confusion[1, int(prediction_test_1[i])] += 1\r\n",
        "for i in range (0, 40):\r\n",
        "  matrice_confusion[2, int(prediction_test_2[i])] +=1\r\n",
        "\r\n",
        "# Print\r\n",
        "print(matrice_confusion)\r\n",
        "fig, ax = plt.subplots()\r\n",
        "ax.imshow(matrice_confusion)\r\n",
        "\r\n",
        "# Annotation\r\n",
        "for i in range(0, 3):\r\n",
        "    for j in range(0, 3):\r\n",
        "        text = ax.text(j, i, matrice_confusion[i, j],\r\n",
        "                       ha=\"center\", va=\"center\", color=\"w\")\r\n",
        "        \r\n",
        "accuracy_0 = matrice_confusion[0, 0] / (matrice_confusion[0, 0] + matrice_confusion[0, 1] + matrice_confusion[0, 2])\r\n",
        "accuracy_1 = matrice_confusion[1, 1] / (matrice_confusion[1, 0] + matrice_confusion[1, 1] + matrice_confusion[1, 2])\r\n",
        "accuracy_2 = matrice_confusion[2, 2] / (matrice_confusion[2, 0] + matrice_confusion[2, 1] + matrice_confusion[2, 2])\r\n",
        "\r\n",
        "print(\"Le taux de bonne prédiction sur la classe 0 est de :\", accuracy_0*100, \"%\")\r\n",
        "print(\"Le taux de bonne prédiction sur la classe 1 est de :\", accuracy_1*100, \"%\")\r\n",
        "print(\"Le taux de bonne prédiction sur la classe 2 est de :\", accuracy_2*100, \"%\")"
      ],
      "execution_count": 41,
      "outputs": [
        {
          "output_type": "stream",
          "text": [
            "[[29.  4.  7.]\n",
            " [18. 15.  7.]\n",
            " [ 0.  2. 38.]]\n",
            "Le taux de bonne prédiction sur la classe 0 est de : 72.5 %\n",
            "Le taux de bonne prédiction sur la classe 1 est de : 37.5 %\n",
            "Le taux de bonne prédiction sur la classe 2 est de : 95.0 %\n"
          ],
          "name": "stdout"
        },
        {
          "output_type": "display_data",
          "data": {
            "image/png": "[encoded data removed]",
            "text/plain": [
              "<Figure size 432x288 with 1 Axes>"
            ]
          },
          "metadata": {
            "tags": [],
            "needs_background": "light"
          }
        }
      ]
    },
    {
      "cell_type": "markdown",
      "metadata": {
        "id": "fykv5v_muHRI"
      },
      "source": [
        "**BILAN provisoire** : Voici les résultats pour chaque méthodes :\r\n",
        "\r\n",
        "- Algorithme DTW : 62,5%, 85%, 80%\r\n",
        "- Algorithme KPPV (k=1) sans ACP : 42,5% 15% 90%\r\n",
        "- Algorithme KPPV (k=1) avec ACP : 72,5% 45% 87,5%\r\n",
        "- Algorithme KPPV (k=3) avec ACP : 85,5% 40% 82,5%\r\n",
        "- Algorithme KPPV (k=5) avec ACP : 90%, 47,5%, 82,5%\r\n",
        "\r\n",
        "Les résultats de l'algoritme DTW sont interessant, surtout vu la facilité du calcul.\r\n",
        "On remarque que plus k est grand, plus l'algorithme KPPV est sélectif et plus les résultats sont interessants. Nous allons tester k=8 et k=10 pour voir..\r\n",
        "Nous constatons aussi à quel point l'ACP simplifie le problème de classification.\r\n",
        "\r\n",
        "Le plus difficile est de différentier les classes 1 et 2.\r\n",
        "On peut constater que souvent, le taux de reconnaissance des classes1 et 3 augmente au détriment de celui de la classe 2\r\n"
      ]
    },
    {
      "cell_type": "code",
      "metadata": {
        "colab": {
          "base_uri": "https://localhost:8080/",
          "height": 371
        },
        "id": "eefSHBfqvNVz",
        "outputId": "cd1aff5d-728f-4770-a7e0-1128976d2b9c"
      },
      "source": [
        "neigh = KNeighborsClassifier(n_neighbors=5)\r\n",
        "neigh.fit(projection_app, Label_App)\r\n",
        "\r\n",
        "prediction_test_0 = neigh.predict(projection_test[0:40, :])\r\n",
        "prediction_test_1 = neigh.predict(projection_test[40:80, :])\r\n",
        "prediction_test_2 = neigh.predict(projection_test[80:120, :])\r\n",
        "\r\n",
        "# On regarde les résultats de KKPV sur les données de base\r\n",
        "matrice_confusion = np.zeros((3, 3))\r\n",
        "for i in range (0, 40):\r\n",
        "  matrice_confusion[0, int(prediction_test_0[i])] += 1\r\n",
        "for i in range (0, 40):\r\n",
        "  matrice_confusion[1, int(prediction_test_1[i])] += 1\r\n",
        "for i in range (0, 40):\r\n",
        "  matrice_confusion[2, int(prediction_test_2[i])] +=1\r\n",
        "\r\n",
        "# Print\r\n",
        "print(matrice_confusion)\r\n",
        "fig, ax = plt.subplots()\r\n",
        "ax.imshow(matrice_confusion)\r\n",
        "\r\n",
        "# Annotation\r\n",
        "for i in range(0, 3):\r\n",
        "    for j in range(0, 3):\r\n",
        "        text = ax.text(j, i, matrice_confusion[i, j],\r\n",
        "                       ha=\"center\", va=\"center\", color=\"w\")\r\n",
        "        \r\n",
        "accuracy_0 = matrice_confusion[0, 0] / (matrice_confusion[0, 0] + matrice_confusion[0, 1] + matrice_confusion[0, 2])\r\n",
        "accuracy_1 = matrice_confusion[1, 1] / (matrice_confusion[1, 0] + matrice_confusion[1, 1] + matrice_confusion[1, 2])\r\n",
        "accuracy_2 = matrice_confusion[2, 2] / (matrice_confusion[2, 0] + matrice_confusion[2, 1] + matrice_confusion[2, 2])\r\n",
        "\r\n",
        "print(\"Le taux de bonne prédiction sur la classe 0 est de :\", accuracy_0*100, \"%\")\r\n",
        "print(\"Le taux de bonne prédiction sur la classe 1 est de :\", accuracy_1*100, \"%\")\r\n",
        "print(\"Le taux de bonne prédiction sur la classe 2 est de :\", accuracy_2*100, \"%\")"
      ],
      "execution_count": 42,
      "outputs": [
        {
          "output_type": "stream",
          "text": [
            "[[29.  4.  7.]\n",
            " [18. 15.  7.]\n",
            " [ 0.  2. 38.]]\n",
            "Le taux de bonne prédiction sur la classe 0 est de : 72.5 %\n",
            "Le taux de bonne prédiction sur la classe 1 est de : 37.5 %\n",
            "Le taux de bonne prédiction sur la classe 2 est de : 95.0 %\n"
          ],
          "name": "stdout"
        },
        {
          "output_type": "display_data",
          "data": {
            "image/png": "[encoded data removed]",
            "text/plain": [
              "<Figure size 432x288 with 1 Axes>"
            ]
          },
          "metadata": {
            "tags": [],
            "needs_background": "light"
          }
        }
      ]
    },
    {
      "cell_type": "markdown",
      "metadata": {
        "id": "Uw3ojSNjXTPK"
      },
      "source": [
        "# Partie III : Classification par Forêts aléatoires\n",
        "\n",
        "Les forêts aléatoires font partie des techniques d'apprentissage automatique. Cet algorithme combine les concepts de sous-espaces aléatoires et de bagging. L'algorithme des forêts d'arbres décisionnels effectue un apprentissage sur de multiples arbres de décision entraînés sur des sous-ensembles de données légèrement différents."
      ]
    },
    {
      "cell_type": "code",
      "metadata": {
        "id": "f1FoVmlwXTPK"
      },
      "source": [
        "from sklearn.ensemble import RandomForestClassifier "
      ],
      "execution_count": 43,
      "outputs": []
    },
    {
      "cell_type": "code",
      "metadata": {
        "id": "NsbCmy2zXTPK",
        "colab": {
          "base_uri": "https://localhost:8080/",
          "height": 388
        },
        "outputId": "e539739f-9a58-496f-bb9f-01b573a517b3"
      },
      "source": [
        "#RandomForestClassifier\r\n",
        "clf = RandomForestClassifier(oob_score=True)\r\n",
        "clf.fit(Data_App, Label_App)\r\n",
        "\r\n",
        "\r\n",
        "#Predictions\r\n",
        "prediction_test_0 = clf.predict(Data_Test_0)\r\n",
        "prediction_test_1 = clf.predict(Data_Test_1)\r\n",
        "prediction_test_2 = clf.predict(Data_Test_2)\r\n",
        "\r\n",
        "# Estimation\r\n",
        "matrice_confusion = np.zeros((3, 3))\r\n",
        "for i in range (0, 40):\r\n",
        "  matrice_confusion[0, int(prediction_test_0[i])] += 1\r\n",
        "for i in range (0, 40):\r\n",
        "  matrice_confusion[1, int(prediction_test_1[i])] += 1\r\n",
        "for i in range (0, 40):\r\n",
        "  matrice_confusion[2, int(prediction_test_2[i])] +=1\r\n",
        "\r\n",
        "# Print\r\n",
        "print(matrice_confusion)\r\n",
        "fig, ax = plt.subplots()\r\n",
        "ax.imshow(matrice_confusion)\r\n",
        "\r\n",
        "# Annotation\r\n",
        "for i in range(0, 3):\r\n",
        "    for j in range(0, 3):\r\n",
        "        text = ax.text(j, i, matrice_confusion[i, j],\r\n",
        "                       ha=\"center\", va=\"center\", color=\"w\")\r\n",
        "\r\n",
        "# Accuracy        \r\n",
        "accuracy_0 = matrice_confusion[0, 0] / (matrice_confusion[0, 0] + matrice_confusion[0, 1] + matrice_confusion[0, 2])\r\n",
        "accuracy_1 = matrice_confusion[1, 1] / (matrice_confusion[1, 0] + matrice_confusion[1, 1] + matrice_confusion[1, 2])\r\n",
        "accuracy_2 = matrice_confusion[2, 2] / (matrice_confusion[2, 0] + matrice_confusion[2, 1] + matrice_confusion[2, 2])\r\n",
        "\r\n",
        "print(\"Le taux de bonne prédiction sur la classe 0 est de :\", accuracy_0*100, \"%\")\r\n",
        "print(\"Le taux de bonne prédiction sur la classe 1 est de :\", accuracy_1*100, \"%\")\r\n",
        "print(\"Le taux de bonne prédiction sur la classe 2 est de :\", accuracy_2*100, \"%\")\r\n",
        "\r\n",
        "print(\"oob score : \", clf.oob_score_)"
      ],
      "execution_count": 44,
      "outputs": [
        {
          "output_type": "stream",
          "text": [
            "[[31.  7.  2.]\n",
            " [ 9. 29.  2.]\n",
            " [ 1.  2. 37.]]\n",
            "Le taux de bonne prédiction sur la classe 0 est de : 77.5 %\n",
            "Le taux de bonne prédiction sur la classe 1 est de : 72.5 %\n",
            "Le taux de bonne prédiction sur la classe 2 est de : 92.5 %\n",
            "oob score :  0.85\n"
          ],
          "name": "stdout"
        },
        {
          "output_type": "display_data",
          "data": {
            "image/png": "[encoded data removed]",
            "text/plain": [
              "<Figure size 432x288 with 1 Axes>"
            ]
          },
          "metadata": {
            "tags": [],
            "needs_background": "light"
          }
        }
      ]
    },
    {
      "cell_type": "code",
      "metadata": {
        "colab": {
          "base_uri": "https://localhost:8080/",
          "height": 388
        },
        "id": "RM5nVh5Y0bx4",
        "outputId": "ebbdfc6a-8551-4cbc-954e-2ac3a89f179a"
      },
      "source": [
        "#RandomForestClassifier\r\n",
        "clf = RandomForestClassifier(oob_score=True)\r\n",
        "clf.fit(projection_app, Label_App)\r\n",
        "\r\n",
        "\r\n",
        "#Predictions\r\n",
        "prediction_test_0 = clf.predict(projection_test[0:40, :])\r\n",
        "prediction_test_1 = clf.predict(projection_test[40:80, :])\r\n",
        "prediction_test_2 = clf.predict(projection_test[80:120, :])\r\n",
        "\r\n",
        "# Estimation\r\n",
        "matrice_confusion = np.zeros((3, 3))\r\n",
        "for i in range (0, 40):\r\n",
        "  matrice_confusion[0, int(prediction_test_0[i])] += 1\r\n",
        "for i in range (0, 40):\r\n",
        "  matrice_confusion[1, int(prediction_test_1[i])] += 1\r\n",
        "for i in range (0, 40):\r\n",
        "  matrice_confusion[2, int(prediction_test_2[i])] +=1\r\n",
        "\r\n",
        "# Print\r\n",
        "print(matrice_confusion)\r\n",
        "fig, ax = plt.subplots()\r\n",
        "ax.imshow(matrice_confusion)\r\n",
        "\r\n",
        "# Annotation\r\n",
        "for i in range(0, 3):\r\n",
        "    for j in range(0, 3):\r\n",
        "        text = ax.text(j, i, matrice_confusion[i, j],\r\n",
        "                       ha=\"center\", va=\"center\", color=\"w\")\r\n",
        "\r\n",
        "# Accuracy        \r\n",
        "accuracy_0 = matrice_confusion[0, 0] / (matrice_confusion[0, 0] + matrice_confusion[0, 1] + matrice_confusion[0, 2])\r\n",
        "accuracy_1 = matrice_confusion[1, 1] / (matrice_confusion[1, 0] + matrice_confusion[1, 1] + matrice_confusion[1, 2])\r\n",
        "accuracy_2 = matrice_confusion[2, 2] / (matrice_confusion[2, 0] + matrice_confusion[2, 1] + matrice_confusion[2, 2])\r\n",
        "\r\n",
        "print(\"Le taux de bonne prédiction sur la classe 0 est de :\", accuracy_0*100, \"%\")\r\n",
        "print(\"Le taux de bonne prédiction sur la classe 1 est de :\", accuracy_1*100, \"%\")\r\n",
        "print(\"Le taux de bonne prédiction sur la classe 2 est de :\", accuracy_2*100, \"%\")\r\n",
        "\r\n",
        "print(\"oob score : \", clf.oob_score_)"
      ],
      "execution_count": 45,
      "outputs": [
        {
          "output_type": "stream",
          "text": [
            "[[26. 11.  3.]\n",
            " [ 9. 28.  3.]\n",
            " [ 0.  2. 38.]]\n",
            "Le taux de bonne prédiction sur la classe 0 est de : 65.0 %\n",
            "Le taux de bonne prédiction sur la classe 1 est de : 70.0 %\n",
            "Le taux de bonne prédiction sur la classe 2 est de : 95.0 %\n",
            "oob score :  0.7666666666666667\n"
          ],
          "name": "stdout"
        },
        {
          "output_type": "display_data",
          "data": {
            "image/png": "[encoded data removed]",
            "text/plain": [
              "<Figure size 432x288 with 1 Axes>"
            ]
          },
          "metadata": {
            "tags": [],
            "needs_background": "light"
          }
        }
      ]
    },
    {
      "cell_type": "markdown",
      "metadata": {
        "id": "AuZbTnhBXTPL"
      },
      "source": [
        "**Evaluation de la classification**\n",
        "\n",
        "La performance des forêts aléatoires peut être estimée par : \n",
        "- **Accuracy score :** évaluation de la précision c'est-à-dire du nombre de données bien classées.\n",
        "75%, 47,5%, 92,5%\n",
        "- **Out-of-bag estimate :**  méthode de mesure de l'erreur de prédiction des forêts aléatoires, des arbres de décision renforcés et d'autres modèles d'apprentissage utilisant l'agrégation bootstrap pour sous-échantillonner les données d'apprentissage. L'OOB est l'erreur moyenne de prédiction sur chaque échantillon d'apprentissage xᵢ, en utilisant uniquement les arbres qui n'avaient pas xᵢ dans leur échantillon bootstrap \n",
        "81,7%\n",
        "\n"
      ]
    },
    {
      "cell_type": "markdown",
      "metadata": {
        "id": "J7TXoXwXXTPL"
      },
      "source": [
        "# Partie IV : Classification par réseaux de neurones\n",
        "\n",
        "1. Réaliser une classification via les réseaux de neurones\n",
        "2. Evaluer les résultats par matrice de confusion par exemple, fonction de perte...\n",
        "3. Tester différentes architectures et différentes solveurs"
      ]
    },
    {
      "cell_type": "code",
      "metadata": {
        "id": "zcDXd4UnXTPL"
      },
      "source": [
        "from sklearn.neural_network import MLPClassifier"
      ],
      "execution_count": 46,
      "outputs": []
    },
    {
      "cell_type": "code",
      "metadata": {
        "id": "7Vv9Sjq_XTPM"
      },
      "source": [
        "# Adam optimizer, learning rate constant, maxiter=500\r\n",
        "clf = MLPClassifier(hidden_layer_sizes=100, activation='relu', solver='adam', alpha=0.0001, batch_size='auto', \r\n",
        "       learning_rate='constant', learning_rate_init=0.001, power_t=0.5, max_iter=500, \r\n",
        "       shuffle=True, random_state=None, tol=0.0001, verbose=False, warm_start=False, momentum=0.9, \r\n",
        "       nesterovs_momentum=True, early_stopping=False, validation_fraction=0.1, beta_1=0.9, \r\n",
        "       beta_2=0.999, epsilon=1e-08, n_iter_no_change=10, max_fun=15000).fit(Data_App, Label_App)"
      ],
      "execution_count": 47,
      "outputs": []
    },
    {
      "cell_type": "code",
      "metadata": {
        "colab": {
          "base_uri": "https://localhost:8080/",
          "height": 371
        },
        "id": "kAeHktSkLbcV",
        "outputId": "ac8d9712-c990-4265-c3ac-7fb6131aa84d"
      },
      "source": [
        "#Predictions\r\n",
        "prediction_test_0 = clf.predict(Data_Test_0)\r\n",
        "prediction_test_1 = clf.predict(Data_Test_1)\r\n",
        "prediction_test_2 = clf.predict(Data_Test_2)\r\n",
        "\r\n",
        "# Estimation\r\n",
        "matrice_confusion = np.zeros((3, 3))\r\n",
        "for i in range (0, 40):\r\n",
        "  matrice_confusion[0, int(prediction_test_0[i])] += 1\r\n",
        "for i in range (0, 40):\r\n",
        "  matrice_confusion[1, int(prediction_test_1[i])] += 1\r\n",
        "for i in range (0, 40):\r\n",
        "  matrice_confusion[2, int(prediction_test_2[i])] +=1\r\n",
        "\r\n",
        "# Print\r\n",
        "print(matrice_confusion)\r\n",
        "fig, ax = plt.subplots()\r\n",
        "ax.imshow(matrice_confusion)\r\n",
        "\r\n",
        "# Annotation\r\n",
        "for i in range(0, 3):\r\n",
        "    for j in range(0, 3):\r\n",
        "        text = ax.text(j, i, matrice_confusion[i, j],\r\n",
        "                       ha=\"center\", va=\"center\", color=\"w\")\r\n",
        "\r\n",
        "# Accuracy        \r\n",
        "accuracy_0 = matrice_confusion[0, 0] / (matrice_confusion[0, 0] + matrice_confusion[0, 1] + matrice_confusion[0, 2])\r\n",
        "accuracy_1 = matrice_confusion[1, 1] / (matrice_confusion[1, 0] + matrice_confusion[1, 1] + matrice_confusion[1, 2])\r\n",
        "accuracy_2 = matrice_confusion[2, 2] / (matrice_confusion[2, 0] + matrice_confusion[2, 1] + matrice_confusion[2, 2])\r\n",
        "\r\n",
        "print(\"Le taux de bonne prédiction sur la classe 0 est de :\", accuracy_0*100, \"%\")\r\n",
        "print(\"Le taux de bonne prédiction sur la classe 1 est de :\", accuracy_1*100, \"%\")\r\n",
        "print(\"Le taux de bonne prédiction sur la classe 2 est de :\", accuracy_2*100, \"%\")"
      ],
      "execution_count": 48,
      "outputs": [
        {
          "output_type": "stream",
          "text": [
            "[[26.  7.  7.]\n",
            " [ 8. 28.  4.]\n",
            " [ 0.  2. 38.]]\n",
            "Le taux de bonne prédiction sur la classe 0 est de : 65.0 %\n",
            "Le taux de bonne prédiction sur la classe 1 est de : 70.0 %\n",
            "Le taux de bonne prédiction sur la classe 2 est de : 95.0 %\n"
          ],
          "name": "stdout"
        },
        {
          "output_type": "display_data",
          "data": {
            "image/png": "[encoded data removed]",
            "text/plain": [
              "<Figure size 432x288 with 1 Axes>"
            ]
          },
          "metadata": {
            "tags": [],
            "needs_background": "light"
          }
        }
      ]
    },
    {
      "cell_type": "markdown",
      "metadata": {
        "id": "UhO101tHMgv-"
      },
      "source": [
        "On teste d'appliquer la classification MLP sur les vecteurs projeté dans l'espace de l'ACP"
      ]
    },
    {
      "cell_type": "code",
      "metadata": {
        "colab": {
          "base_uri": "https://localhost:8080/",
          "height": 371
        },
        "id": "c1-Plq3JMkqT",
        "outputId": "eddaa2f7-75c5-41bd-ae96-5a07842458fc"
      },
      "source": [
        "# Adam optimizer, learningrate is adaptative, maxiter=2000\r\n",
        "clf = MLPClassifier(hidden_layer_sizes=100, activation='relu', solver='adam', alpha=0.0001, batch_size='auto', \r\n",
        "       learning_rate='adaptive', learning_rate_init=0.001, power_t=0.5, max_iter=2000, \r\n",
        "       shuffle=True, random_state=None, tol=0.0001, verbose=False, warm_start=False, momentum=0.9, \r\n",
        "       nesterovs_momentum=True, early_stopping=False, validation_fraction=0.1, beta_1=0.9, \r\n",
        "       beta_2=0.999, epsilon=1e-08, n_iter_no_change=10, max_fun=15000).fit(projection_app, Label_App)\r\n",
        "\r\n",
        "#Predictions\r\n",
        "prediction_test_0 = clf.predict(projection_test[0:40, :])\r\n",
        "prediction_test_1 = clf.predict(projection_test[40:80, :])\r\n",
        "prediction_test_2 = clf.predict(projection_test[80:120, :])\r\n",
        "\r\n",
        "# Estimation\r\n",
        "matrice_confusion = np.zeros((3, 3))\r\n",
        "for i in range (0, 40):\r\n",
        "  matrice_confusion[0, int(prediction_test_0[i])] += 1\r\n",
        "for i in range (0, 40):\r\n",
        "  matrice_confusion[1, int(prediction_test_1[i])] += 1\r\n",
        "for i in range (0, 40):\r\n",
        "  matrice_confusion[2, int(prediction_test_2[i])] +=1\r\n",
        "\r\n",
        "# Print\r\n",
        "print(matrice_confusion)\r\n",
        "fig, ax = plt.subplots()\r\n",
        "ax.imshow(matrice_confusion)\r\n",
        "\r\n",
        "# Annotation\r\n",
        "for i in range(0, 3):\r\n",
        "    for j in range(0, 3):\r\n",
        "        text = ax.text(j, i, matrice_confusion[i, j],\r\n",
        "                       ha=\"center\", va=\"center\", color=\"w\")\r\n",
        "\r\n",
        "# Accuracy        \r\n",
        "accuracy_0 = matrice_confusion[0, 0] / (matrice_confusion[0, 0] + matrice_confusion[0, 1] + matrice_confusion[0, 2])\r\n",
        "accuracy_1 = matrice_confusion[1, 1] / (matrice_confusion[1, 0] + matrice_confusion[1, 1] + matrice_confusion[1, 2])\r\n",
        "accuracy_2 = matrice_confusion[2, 2] / (matrice_confusion[2, 0] + matrice_confusion[2, 1] + matrice_confusion[2, 2])\r\n",
        "\r\n",
        "print(\"Le taux de bonne prédiction sur la classe 0 est de :\", accuracy_0*100, \"%\")\r\n",
        "print(\"Le taux de bonne prédiction sur la classe 1 est de :\", accuracy_1*100, \"%\")\r\n",
        "print(\"Le taux de bonne prédiction sur la classe 2 est de :\", accuracy_2*100, \"%\")\r\n"
      ],
      "execution_count": 49,
      "outputs": [
        {
          "output_type": "stream",
          "text": [
            "[[24. 13.  3.]\n",
            " [14. 22.  4.]\n",
            " [ 0.  3. 37.]]\n",
            "Le taux de bonne prédiction sur la classe 0 est de : 60.0 %\n",
            "Le taux de bonne prédiction sur la classe 1 est de : 55.00000000000001 %\n",
            "Le taux de bonne prédiction sur la classe 2 est de : 92.5 %\n"
          ],
          "name": "stdout"
        },
        {
          "output_type": "display_data",
          "data": {
            "image/png": "[encoded data removed]",
            "text/plain": [
              "<Figure size 432x288 with 1 Axes>"
            ]
          },
          "metadata": {
            "tags": [],
            "needs_background": "light"
          }
        }
      ]
    },
    {
      "cell_type": "markdown",
      "metadata": {
        "id": "7DZkOxW2Ne1M"
      },
      "source": [
        "L'ACP diminue les résultats."
      ]
    },
    {
      "cell_type": "markdown",
      "metadata": {
        "id": "5ApgXALqN5SU"
      },
      "source": [
        "On test à présent de changer le solver "
      ]
    },
    {
      "cell_type": "code",
      "metadata": {
        "colab": {
          "base_uri": "https://localhost:8080/",
          "height": 371
        },
        "id": "DmU63URNOBss",
        "outputId": "a85553de-84dc-4acc-bc87-5b607ede8add"
      },
      "source": [
        "#SGD optimizer, learning rate adaptative, maxiter=2000\r\n",
        "clf = MLPClassifier(hidden_layer_sizes=100, activation='relu', solver='sgd', alpha=0.0001, batch_size='auto', \r\n",
        "       learning_rate='adaptive', learning_rate_init=0.001, power_t=0.5, max_iter=2000, \r\n",
        "       shuffle=True, random_state=None, tol=0.0001, verbose=False, warm_start=False, momentum=0.9, \r\n",
        "       nesterovs_momentum=True, early_stopping=False, validation_fraction=0.1, beta_1=0.9, \r\n",
        "       beta_2=0.999, epsilon=1e-08, n_iter_no_change=10, max_fun=15000).fit(Data_App, Label_App)\r\n",
        "\r\n",
        "#Predictions\r\n",
        "prediction_test_0 = clf.predict(Data_Test_0)\r\n",
        "prediction_test_1 = clf.predict(Data_Test_1)\r\n",
        "prediction_test_2 = clf.predict(Data_Test_2)\r\n",
        "\r\n",
        "# Estimation\r\n",
        "matrice_confusion = np.zeros((3, 3))\r\n",
        "for i in range (0, 40):\r\n",
        "  matrice_confusion[0, int(prediction_test_0[i])] += 1\r\n",
        "for i in range (0, 40):\r\n",
        "  matrice_confusion[1, int(prediction_test_1[i])] += 1\r\n",
        "for i in range (0, 40):\r\n",
        "  matrice_confusion[2, int(prediction_test_2[i])] +=1\r\n",
        "\r\n",
        "# Print\r\n",
        "print(matrice_confusion)\r\n",
        "fig, ax = plt.subplots()\r\n",
        "ax.imshow(matrice_confusion)\r\n",
        "\r\n",
        "# Annotation\r\n",
        "for i in range(0, 3):\r\n",
        "    for j in range(0, 3):\r\n",
        "        text = ax.text(j, i, matrice_confusion[i, j],\r\n",
        "                       ha=\"center\", va=\"center\", color=\"w\")\r\n",
        "\r\n",
        "# Accuracy        \r\n",
        "accuracy_0 = matrice_confusion[0, 0] / (matrice_confusion[0, 0] + matrice_confusion[0, 1] + matrice_confusion[0, 2])\r\n",
        "accuracy_1 = matrice_confusion[1, 1] / (matrice_confusion[1, 0] + matrice_confusion[1, 1] + matrice_confusion[1, 2])\r\n",
        "accuracy_2 = matrice_confusion[2, 2] / (matrice_confusion[2, 0] + matrice_confusion[2, 1] + matrice_confusion[2, 2])\r\n",
        "\r\n",
        "print(\"Le taux de bonne prédiction sur la classe 0 est de :\", accuracy_0*100, \"%\")\r\n",
        "print(\"Le taux de bonne prédiction sur la classe 1 est de :\", accuracy_1*100, \"%\")\r\n",
        "print(\"Le taux de bonne prédiction sur la classe 2 est de :\", accuracy_2*100, \"%\")"
      ],
      "execution_count": 50,
      "outputs": [
        {
          "output_type": "stream",
          "text": [
            "[[26.  5.  9.]\n",
            " [ 8. 21. 11.]\n",
            " [ 0.  4. 36.]]\n",
            "Le taux de bonne prédiction sur la classe 0 est de : 65.0 %\n",
            "Le taux de bonne prédiction sur la classe 1 est de : 52.5 %\n",
            "Le taux de bonne prédiction sur la classe 2 est de : 90.0 %\n"
          ],
          "name": "stdout"
        },
        {
          "output_type": "display_data",
          "data": {
            "image/png": "[encoded data removed]",
            "text/plain": [
              "<Figure size 432x288 with 1 Axes>"
            ]
          },
          "metadata": {
            "tags": [],
            "needs_background": "light"
          }
        }
      ]
    },
    {
      "cell_type": "markdown",
      "metadata": {
        "id": "U079PkROO-U0"
      },
      "source": [
        "2e test avec l'optimizer SGD mais cette fois avec un learning_rate constant"
      ]
    },
    {
      "cell_type": "code",
      "metadata": {
        "colab": {
          "base_uri": "https://localhost:8080/",
          "height": 371
        },
        "id": "2ApK1lVEOi1O",
        "outputId": "30526cd2-ba08-437a-aeea-db49bea29d37"
      },
      "source": [
        "# SGD optimizer, learning rate is constant, and maxiter= 2000\r\n",
        "clf = MLPClassifier(hidden_layer_sizes=100, activation='relu', solver='sgd', alpha=0.0001, batch_size='auto', \r\n",
        "       learning_rate='constant', learning_rate_init=0.001, power_t=0.5, max_iter=2000, \r\n",
        "       shuffle=True, random_state=None, tol=0.0001, verbose=False, warm_start=False, momentum=0.9, \r\n",
        "       nesterovs_momentum=True, early_stopping=False, validation_fraction=0.1, beta_1=0.9, \r\n",
        "       beta_2=0.999, epsilon=1e-08, n_iter_no_change=10, max_fun=15000).fit(Data_App, Label_App)\r\n",
        "\r\n",
        "#Predictions\r\n",
        "prediction_test_0 = clf.predict(Data_Test_0)\r\n",
        "prediction_test_1 = clf.predict(Data_Test_1)\r\n",
        "prediction_test_2 = clf.predict(Data_Test_2)\r\n",
        "\r\n",
        "# Estimation\r\n",
        "matrice_confusion = np.zeros((3, 3))\r\n",
        "for i in range (0, 40):\r\n",
        "  matrice_confusion[0, int(prediction_test_0[i])] += 1\r\n",
        "for i in range (0, 40):\r\n",
        "  matrice_confusion[1, int(prediction_test_1[i])] += 1\r\n",
        "for i in range (0, 40):\r\n",
        "  matrice_confusion[2, int(prediction_test_2[i])] +=1\r\n",
        "\r\n",
        "# Print\r\n",
        "print(matrice_confusion)\r\n",
        "fig, ax = plt.subplots()\r\n",
        "ax.imshow(matrice_confusion)\r\n",
        "\r\n",
        "# Annotation\r\n",
        "for i in range(0, 3):\r\n",
        "    for j in range(0, 3):\r\n",
        "        text = ax.text(j, i, matrice_confusion[i, j],\r\n",
        "                       ha=\"center\", va=\"center\", color=\"w\")\r\n",
        "\r\n",
        "# Accuracy        \r\n",
        "accuracy_0 = matrice_confusion[0, 0] / (matrice_confusion[0, 0] + matrice_confusion[0, 1] + matrice_confusion[0, 2])\r\n",
        "accuracy_1 = matrice_confusion[1, 1] / (matrice_confusion[1, 0] + matrice_confusion[1, 1] + matrice_confusion[1, 2])\r\n",
        "accuracy_2 = matrice_confusion[2, 2] / (matrice_confusion[2, 0] + matrice_confusion[2, 1] + matrice_confusion[2, 2])\r\n",
        "\r\n",
        "print(\"Le taux de bonne prédiction sur la classe 0 est de :\", accuracy_0*100, \"%\")\r\n",
        "print(\"Le taux de bonne prédiction sur la classe 1 est de :\", accuracy_1*100, \"%\")\r\n",
        "print(\"Le taux de bonne prédiction sur la classe 2 est de :\", accuracy_2*100, \"%\")"
      ],
      "execution_count": 51,
      "outputs": [
        {
          "output_type": "stream",
          "text": [
            "[[24.  3. 13.]\n",
            " [ 8. 21. 11.]\n",
            " [ 0.  3. 37.]]\n",
            "Le taux de bonne prédiction sur la classe 0 est de : 60.0 %\n",
            "Le taux de bonne prédiction sur la classe 1 est de : 52.5 %\n",
            "Le taux de bonne prédiction sur la classe 2 est de : 92.5 %\n"
          ],
          "name": "stdout"
        },
        {
          "output_type": "display_data",
          "data": {
            "image/png": "[encoded data removed]",
            "text/plain": [
              "<Figure size 432x288 with 1 Axes>"
            ]
          },
          "metadata": {
            "tags": [],
            "needs_background": "light"
          }
        }
      ]
    },
    {
      "cell_type": "markdown",
      "metadata": {
        "id": "HoIOq15lROM8"
      },
      "source": [
        "**Bilan de toutes les études de base** : \r\n",
        "\r\n",
        "DTW : 62,5% 85% 80%\r\n",
        "\r\n",
        "KPPV : 87,5% 47,5% 87,5%\r\n",
        "\r\n",
        "RandomForest : 87,5% 72,5% 82,5%\r\n",
        "\r\n",
        "MLP : 72,5% 62,5% 87,5%"
      ]
    },
    {
      "cell_type": "markdown",
      "metadata": {
        "id": "hzXvdnPTXTPM"
      },
      "source": [
        "# Partie V : votre étude\n",
        "\n",
        "Réalisez votre propre étude en :\n",
        "- en augmentant les bases de test et/ou d'apprentissage et/ou la durée des segments \n",
        "- en proposant des variantes des méthodes proposées ou en utilisant d'autres\n",
        "- en rajoutant davantage de classes (jusqu'à 3 supplémentaires : 4-Debout, 5-Monter ou 6-Marcher ) \n",
        "le tout en testant les différentes approches et en interprétant les résultats, à synthétiser sur un rapport. \n",
        "\n",
        "\n"
      ]
    },
    {
      "cell_type": "markdown",
      "metadata": {
        "id": "KOzMdGg8PkVw"
      },
      "source": [
        "**Pour commencer, nous allons appliquer un SVM.**\r\n",
        "\r\n",
        "Pourquoi ?\r\n",
        "\r\n",
        "Les SVM sont fort quand :\r\n",
        "\r\n",
        "*   Pour classifier des données de grande dimension\r\n",
        "*   Quand le nombre de dimension est plus grand que le nombre de données, mais n'est pas non plus un  ordre de grandeur au dessus\r\n",
        "\r\n",
        "Les SVM semblent donc être efficace pour notre problème, voyons voir ...\r\n",
        "\r\n",
        "\r\n",
        "\r\n"
      ]
    },
    {
      "cell_type": "code",
      "metadata": {
        "id": "qFMq6DAIXTPM",
        "colab": {
          "base_uri": "https://localhost:8080/",
          "height": 371
        },
        "outputId": "b39abae9-12cb-4c63-8f1d-4bdd96bae6b7"
      },
      "source": [
        "from sklearn import svm\r\n",
        "\r\n",
        "svm_classifier = svm.SVC(C=0.75)\r\n",
        "svm_classifier.fit(Data_App, Label_App)\r\n",
        "\r\n",
        "#Predictions\r\n",
        "prediction_test_0 = svm_classifier.predict(Data_Test_0)\r\n",
        "prediction_test_1 = svm_classifier.predict(Data_Test_1)\r\n",
        "prediction_test_2 = svm_classifier.predict(Data_Test_2)\r\n",
        "\r\n",
        "# Estimation\r\n",
        "matrice_confusion = np.zeros((3, 3))\r\n",
        "for i in range (0, 40):\r\n",
        "  matrice_confusion[0, int(prediction_test_0[i])] += 1\r\n",
        "for i in range (0, 40):\r\n",
        "  matrice_confusion[1, int(prediction_test_1[i])] += 1\r\n",
        "for i in range (0, 40):\r\n",
        "  matrice_confusion[2, int(prediction_test_2[i])] +=1\r\n",
        "\r\n",
        "# Print\r\n",
        "print(matrice_confusion)\r\n",
        "fig, ax = plt.subplots()\r\n",
        "ax.imshow(matrice_confusion)\r\n",
        "\r\n",
        "# Annotation\r\n",
        "for i in range(0, 3):\r\n",
        "    for j in range(0, 3):\r\n",
        "        text = ax.text(j, i, matrice_confusion[i, j],\r\n",
        "                       ha=\"center\", va=\"center\", color=\"w\")\r\n",
        "\r\n",
        "# Accuracy        \r\n",
        "accuracy_0 = matrice_confusion[0, 0] / (matrice_confusion[0, 0] + matrice_confusion[0, 1] + matrice_confusion[0, 2])\r\n",
        "accuracy_1 = matrice_confusion[1, 1] / (matrice_confusion[1, 0] + matrice_confusion[1, 1] + matrice_confusion[1, 2])\r\n",
        "accuracy_2 = matrice_confusion[2, 2] / (matrice_confusion[2, 0] + matrice_confusion[2, 1] + matrice_confusion[2, 2])\r\n",
        "\r\n",
        "print(\"Le taux de bonne prédiction sur la classe 0 est de :\", accuracy_0*100, \"%\")\r\n",
        "print(\"Le taux de bonne prédiction sur la classe 1 est de :\", accuracy_1*100, \"%\")\r\n",
        "print(\"Le taux de bonne prédiction sur la classe 2 est de :\", accuracy_2*100, \"%\")\r\n"
      ],
      "execution_count": 52,
      "outputs": [
        {
          "output_type": "stream",
          "text": [
            "[[35.  4.  1.]\n",
            " [ 5. 35.  0.]\n",
            " [ 4.  2. 34.]]\n",
            "Le taux de bonne prédiction sur la classe 0 est de : 87.5 %\n",
            "Le taux de bonne prédiction sur la classe 1 est de : 87.5 %\n",
            "Le taux de bonne prédiction sur la classe 2 est de : 85.0 %\n"
          ],
          "name": "stdout"
        },
        {
          "output_type": "display_data",
          "data": {
            "image/png": "[encoded data removed]",
            "text/plain": [
              "<Figure size 432x288 with 1 Axes>"
            ]
          },
          "metadata": {
            "tags": [],
            "needs_background": "light"
          }
        }
      ]
    },
    {
      "cell_type": "markdown",
      "metadata": {
        "id": "5e9uOSduXt0y"
      },
      "source": [
        "Clairement, les résultats sont excellent avec un SVM ! "
      ]
    },
    {
      "cell_type": "markdown",
      "metadata": {
        "id": "4Y7ZFqzsZiWt"
      },
      "source": [
        "Maintenant nous allons tenter d'utiliser un XGBoost. \r\n",
        "Juste parce que nous ne l'avons jamais utilisé et nous voulons le tester... Rien de plus."
      ]
    },
    {
      "cell_type": "code",
      "metadata": {
        "colab": {
          "base_uri": "https://localhost:8080/",
          "height": 371
        },
        "id": "Zc6iIzC-aKJm",
        "outputId": "16ea6439-41d3-4fa0-c754-bff542bed95f"
      },
      "source": [
        "from sklearn.ensemble import GradientBoostingClassifier\r\n",
        "\r\n",
        "# XGboost\r\n",
        "clf = GradientBoostingClassifier(n_estimators=10, learning_rate=0.1, max_depth=10, random_state=0).fit(Data_App, Label_App)\r\n",
        "\r\n",
        "#Predictions\r\n",
        "prediction_test_0 = clf.predict(Data_Test_0)\r\n",
        "prediction_test_1 = clf.predict(Data_Test_1)\r\n",
        "prediction_test_2 = clf.predict(Data_Test_2)\r\n",
        "\r\n",
        "# Estimation\r\n",
        "matrice_confusion = np.zeros((3, 3))\r\n",
        "for i in range (0, 40):\r\n",
        "  matrice_confusion[0, int(prediction_test_0[i])] += 1\r\n",
        "for i in range (0, 40):\r\n",
        "  matrice_confusion[1, int(prediction_test_1[i])] += 1\r\n",
        "for i in range (0, 40):\r\n",
        "  matrice_confusion[2, int(prediction_test_2[i])] +=1\r\n",
        "\r\n",
        "# Print\r\n",
        "print(matrice_confusion)\r\n",
        "fig, ax = plt.subplots()\r\n",
        "ax.imshow(matrice_confusion)\r\n",
        "\r\n",
        "# Annotation\r\n",
        "for i in range(0, 3):\r\n",
        "    for j in range(0, 3):\r\n",
        "        text = ax.text(j, i, matrice_confusion[i, j],\r\n",
        "                       ha=\"center\", va=\"center\", color=\"w\")\r\n",
        "\r\n",
        "# Accuracy        \r\n",
        "accuracy_0 = matrice_confusion[0, 0] / (matrice_confusion[0, 0] + matrice_confusion[0, 1] + matrice_confusion[0, 2])\r\n",
        "accuracy_1 = matrice_confusion[1, 1] / (matrice_confusion[1, 0] + matrice_confusion[1, 1] + matrice_confusion[1, 2])\r\n",
        "accuracy_2 = matrice_confusion[2, 2] / (matrice_confusion[2, 0] + matrice_confusion[2, 1] + matrice_confusion[2, 2])\r\n",
        "\r\n",
        "print(\"Le taux de bonne prédiction sur la classe 0 est de :\", accuracy_0*100, \"%\")\r\n",
        "print(\"Le taux de bonne prédiction sur la classe 1 est de :\", accuracy_1*100, \"%\")\r\n",
        "print(\"Le taux de bonne prédiction sur la classe 2 est de :\", accuracy_2*100, \"%\")\r\n"
      ],
      "execution_count": 53,
      "outputs": [
        {
          "output_type": "stream",
          "text": [
            "[[18. 15.  7.]\n",
            " [ 7. 16. 17.]\n",
            " [ 1.  2. 37.]]\n",
            "Le taux de bonne prédiction sur la classe 0 est de : 45.0 %\n",
            "Le taux de bonne prédiction sur la classe 1 est de : 40.0 %\n",
            "Le taux de bonne prédiction sur la classe 2 est de : 92.5 %\n"
          ],
          "name": "stdout"
        },
        {
          "output_type": "display_data",
          "data": {
            "image/png": "[encoded data removed]",
            "text/plain": [
              "<Figure size 432x288 with 1 Axes>"
            ]
          },
          "metadata": {
            "tags": [],
            "needs_background": "light"
          }
        }
      ]
    },
    {
      "cell_type": "markdown",
      "metadata": {
        "id": "KMeRpDu2bLPf"
      },
      "source": [
        "XGBoost ne marche pas vraiment.\r\n",
        "En se documentant, nous avons appris que XGBoost était surtout efficace sur les tableaux de donnés, et que une méthode pour l'appliquer à nos résultats serait d'utiliser des features non stationnaires"
      ]
    },
    {
      "cell_type": "markdown",
      "metadata": {
        "id": "G-v4jvU9b1rS"
      },
      "source": [
        "**Nous allons tenter d'appliquer un CNN d'une dimension à notre modèle.**"
      ]
    },
    {
      "cell_type": "code",
      "metadata": {
        "id": "SsKrjsaPGOME"
      },
      "source": [
        "# print(\"shape data app :\", np.shape(Data_App))\r\n",
        "# print(\"shape labels app :\", np.shape(Label_App))\r\n",
        "\r\n",
        "# print(\"shape data test :\", np.shape(Data_Test))\r\n",
        "# print(\"shape label test :\", np.shape(Label_Test))\r\n",
        "\r\n",
        "# Data_Test_0 = Data_Test[0:40, :]\r\n",
        "# Data_Test_1 = Data_Test[40:80, :]\r\n",
        "# Data_Test_2 = Data_Test[80:120, :]"
      ],
      "execution_count": 54,
      "outputs": []
    },
    {
      "cell_type": "markdown",
      "metadata": {
        "id": "IeRgxP0sMQRp"
      },
      "source": [
        "Fonction utilitaire pour analyser les performances de notre réseau de neurone"
      ]
    },
    {
      "cell_type": "code",
      "metadata": {
        "id": "x2T9Iou5MTB2"
      },
      "source": [
        "def plot_training_analysis():\r\n",
        "\r\n",
        "  acc = history.history['accuracy']\r\n",
        "  val_acc = history.history['val_accuracy']\r\n",
        "  loss = history.history['loss']\r\n",
        "  val_loss = history.history['val_loss']\r\n",
        "\r\n",
        "  epochs = range(len(acc))\r\n",
        "\r\n",
        "  plt.plot(epochs, acc, 'b', linestyle=\"--\",label='Training acc')\r\n",
        "  plt.plot(epochs, val_acc, 'g', label='Validation acc')\r\n",
        "  plt.title('Training and validation accuracy')\r\n",
        "  plt.legend()\r\n",
        "\r\n",
        "  plt.figure()\r\n",
        "\r\n",
        "  plt.plot(epochs, loss, 'b', linestyle=\"--\",label='Training loss')\r\n",
        "  plt.plot(epochs, val_loss,'g', label='Validation loss')\r\n",
        "  plt.title('Training and validation loss')\r\n",
        "  plt.legend()\r\n",
        "\r\n",
        "  plt.figure()\r\n"
      ],
      "execution_count": 101,
      "outputs": []
    },
    {
      "cell_type": "code",
      "metadata": {
        "id": "IC1GAege0g5q"
      },
      "source": [
        "import keras\r\n",
        "from keras import layers\r\n",
        "from keras import models\r\n",
        "from keras.layers import Dense, Conv2D, MaxPooling2D, Flatten, Dropout, Input, BatchNormalization, Conv1D, MaxPooling1D\r\n",
        "from keras.layers.advanced_activations import LeakyReLU\r\n",
        "from keras.models import Model, Sequential\r\n",
        "from keras import regularizers\r\n",
        "\r\n",
        "def create_model_localisation(input_shape=(90, 1)):\r\n",
        "\r\n",
        "\r\n",
        "  input_layer = Input(shape=input_shape)\r\n",
        "\r\n",
        "  # Shape is 90\r\n",
        "\r\n",
        "  x = Conv1D(32, 8, activation = 'relu', padding = 'same', kernel_initializer = 'he_normal', kernel_regularizer=regularizers.l1_l2(l1=0, l2=2e-4))(input_layer)\r\n",
        "  x = Dropout(0.2)(x)\r\n",
        "  x = BatchNormalization()(x)\r\n",
        "  x = Conv1D(32, 8, activation = 'relu', kernel_regularizer=regularizers.l1_l2(l1=0, l2=2e-4))(x)\r\n",
        "  x = Dropout(0.2)(x)\r\n",
        "  x = BatchNormalization()(x)\r\n",
        "  x = MaxPooling1D()(x)\r\n",
        "\r\n",
        "  x = Conv1D(32, 8, activation='relu', kernel_regularizer=regularizers.l1_l2(l1=0, l2=2e-4))(x)\r\n",
        "  x = Dropout(0.2)(x)\r\n",
        "  x = BatchNormalization()(x)\r\n",
        "\r\n",
        "  x = Flatten()(x)\r\n",
        "  x = Dense(8, activation = 'relu', kernel_regularizer=regularizers.l1_l2(l1=0, l2=2e-4))(x)\r\n",
        "  x = Dropout(0.2)(x)\r\n",
        "  output = Dense(3, activation = 'softmax', name='classes')(x)\r\n",
        "\r\n",
        "  model = Model(input_layer, output)\r\n",
        "\r\n",
        "  return model"
      ],
      "execution_count": 102,
      "outputs": []
    },
    {
      "cell_type": "code",
      "metadata": {
        "colab": {
          "base_uri": "https://localhost:8080/"
        },
        "id": "q6z4z7BBJixA",
        "outputId": "a4eaeecf-e490-4762-dc30-20997667966d"
      },
      "source": [
        "# Reshape des labels pour qu'ils soient compatible au réseau de neurone\r\n",
        "Label_App_2 = np.zeros((60, 3))\r\n",
        "for i in range(0, 60):\r\n",
        "  Label_App_2[i, int(Label_App[i])] += 1\r\n",
        "print(np.shape(Label_App_2))\r\n",
        "\r\n",
        "Label_Test_2 = np.zeros((120, 3))\r\n",
        "for i in range(0, 120):\r\n",
        "  Label_Test_2[i, int(Label_Test[i])] += 1\r\n",
        "print(np.shape(Label_Test_2))"
      ],
      "execution_count": 103,
      "outputs": [
        {
          "output_type": "stream",
          "text": [
            "(60, 3)\n",
            "(120, 3)\n"
          ],
          "name": "stdout"
        }
      ]
    },
    {
      "cell_type": "code",
      "metadata": {
        "colab": {
          "base_uri": "https://localhost:8080/"
        },
        "id": "9dnB3Fg6DfN7",
        "outputId": "4e1acc27-2fc5-42de-bb9c-bbcbd0d19144"
      },
      "source": [
        "print(np.shape(Label_Test_2))\r\n",
        "print(np.shape(Data_Test_2))"
      ],
      "execution_count": 99,
      "outputs": [
        {
          "output_type": "stream",
          "text": [
            "(120, 3)\n",
            "(120, 90, 1)\n"
          ],
          "name": "stdout"
        }
      ]
    },
    {
      "cell_type": "code",
      "metadata": {
        "colab": {
          "base_uri": "https://localhost:8080/"
        },
        "id": "T5CSDSk-CGKo",
        "outputId": "2db108d8-a59f-4e79-d582-428cdaf2406d"
      },
      "source": [
        "from keras.optimizers import Adam\r\n",
        "import tensorflow as tf\r\n",
        "\r\n",
        "\r\n",
        "batch_size=16\r\n",
        "model = create_model_localisation()\r\n",
        "print(\"model shape\", np.shape(model))\r\n",
        "opt = Adam(learning_rate=3e-4)  \r\n",
        "\r\n",
        "loss=tf.keras.losses.BinaryCrossentropy()\r\n",
        "metrics=[['accuracy']]\r\n",
        "\r\n",
        "model.compile(loss=loss,\r\n",
        "              optimizer=opt,\r\n",
        "              metrics=metrics,\r\n",
        "              )\r\n",
        "\r\n",
        "Data_App_2 = Data_App[:, :, np.newaxis]\r\n",
        "Data_Test_2 = Data_Test[:, :, np.newaxis]\r\n",
        "Data_Test_2_0 = Data_Test_2[:40, :]\r\n",
        "Data_Test_2_1 = Data_Test_2[40:80, :]\r\n",
        "Data_Test_2_2 = Data_Test_2[80:120, :]\r\n",
        "\r\n",
        "print(\"Data_app_2 shape :\", np.shape(Data_App_2))\r\n",
        "\r\n",
        "model.summary()\r\n",
        "history = model.fit(Data_App_2, Label_App_2, batch_size = batch_size, epochs=50,\r\n",
        "                    validation_data=(Data_Test_2, Label_Test_2))\r\n"
      ],
      "execution_count": 104,
      "outputs": [
        {
          "output_type": "stream",
          "text": [
            "model shape ()\n",
            "Data_app_2 shape : (60, 90, 1)\n",
            "Model: \"model_8\"\n",
            "_________________________________________________________________\n",
            "Layer (type)                 Output Shape              Param #   \n",
            "=================================================================\n",
            "input_9 (InputLayer)         [(None, 90, 1)]           0         \n",
            "_________________________________________________________________\n",
            "conv1d_24 (Conv1D)           (None, 90, 32)            288       \n",
            "_________________________________________________________________\n",
            "dropout_29 (Dropout)         (None, 90, 32)            0         \n",
            "_________________________________________________________________\n",
            "batch_normalization_24 (Batc (None, 90, 32)            128       \n",
            "_________________________________________________________________\n",
            "conv1d_25 (Conv1D)           (None, 83, 32)            8224      \n",
            "_________________________________________________________________\n",
            "dropout_30 (Dropout)         (None, 83, 32)            0         \n",
            "_________________________________________________________________\n",
            "batch_normalization_25 (Batc (None, 83, 32)            128       \n",
            "_________________________________________________________________\n",
            "max_pooling1d_8 (MaxPooling1 (None, 41, 32)            0         \n",
            "_________________________________________________________________\n",
            "conv1d_26 (Conv1D)           (None, 34, 32)            8224      \n",
            "_________________________________________________________________\n",
            "dropout_31 (Dropout)         (None, 34, 32)            0         \n",
            "_________________________________________________________________\n",
            "batch_normalization_26 (Batc (None, 34, 32)            128       \n",
            "_________________________________________________________________\n",
            "flatten_8 (Flatten)          (None, 1088)              0         \n",
            "_________________________________________________________________\n",
            "dense_8 (Dense)              (None, 8)                 8712      \n",
            "_________________________________________________________________\n",
            "dropout_32 (Dropout)         (None, 8)                 0         \n",
            "_________________________________________________________________\n",
            "classes (Dense)              (None, 3)                 27        \n",
            "=================================================================\n",
            "Total params: 25,859\n",
            "Trainable params: 25,667\n",
            "Non-trainable params: 192\n",
            "_________________________________________________________________\n",
            "Epoch 1/50\n",
            "4/4 [==============================] - 1s 86ms/step - loss: 1.0017 - accuracy: 0.4187 - val_loss: 1.2482 - val_accuracy: 0.2750\n",
            "Epoch 2/50\n",
            "4/4 [==============================] - 0s 23ms/step - loss: 0.7841 - accuracy: 0.4700 - val_loss: 1.1382 - val_accuracy: 0.2917\n",
            "Epoch 3/50\n",
            "4/4 [==============================] - 0s 20ms/step - loss: 0.7867 - accuracy: 0.3275 - val_loss: 1.0914 - val_accuracy: 0.3333\n",
            "Epoch 4/50\n",
            "4/4 [==============================] - 0s 19ms/step - loss: 0.7009 - accuracy: 0.5763 - val_loss: 1.0680 - val_accuracy: 0.3250\n",
            "Epoch 5/50\n",
            "4/4 [==============================] - 0s 21ms/step - loss: 0.7427 - accuracy: 0.4392 - val_loss: 1.0533 - val_accuracy: 0.3250\n",
            "Epoch 6/50\n",
            "4/4 [==============================] - 0s 22ms/step - loss: 0.7372 - accuracy: 0.5196 - val_loss: 1.0328 - val_accuracy: 0.3333\n",
            "Epoch 7/50\n",
            "4/4 [==============================] - 0s 22ms/step - loss: 0.6079 - accuracy: 0.7812 - val_loss: 0.9996 - val_accuracy: 0.3333\n",
            "Epoch 8/50\n",
            "4/4 [==============================] - 0s 22ms/step - loss: 0.6847 - accuracy: 0.5217 - val_loss: 0.9690 - val_accuracy: 0.3333\n",
            "Epoch 9/50\n",
            "4/4 [==============================] - 0s 21ms/step - loss: 0.6145 - accuracy: 0.6867 - val_loss: 0.9317 - val_accuracy: 0.3333\n",
            "Epoch 10/50\n",
            "4/4 [==============================] - 0s 23ms/step - loss: 0.6047 - accuracy: 0.6387 - val_loss: 0.8867 - val_accuracy: 0.3333\n",
            "Epoch 11/50\n",
            "4/4 [==============================] - 0s 20ms/step - loss: 0.6011 - accuracy: 0.7283 - val_loss: 0.8500 - val_accuracy: 0.3333\n",
            "Epoch 12/50\n",
            "4/4 [==============================] - 0s 20ms/step - loss: 0.5692 - accuracy: 0.6692 - val_loss: 0.8174 - val_accuracy: 0.3333\n",
            "Epoch 13/50\n",
            "4/4 [==============================] - 0s 23ms/step - loss: 0.4762 - accuracy: 0.7879 - val_loss: 0.7864 - val_accuracy: 0.3500\n",
            "Epoch 14/50\n",
            "4/4 [==============================] - 0s 21ms/step - loss: 0.5443 - accuracy: 0.6987 - val_loss: 0.7545 - val_accuracy: 0.3500\n",
            "Epoch 15/50\n",
            "4/4 [==============================] - 0s 72ms/step - loss: 0.5534 - accuracy: 0.7517 - val_loss: 0.7233 - val_accuracy: 0.3667\n",
            "Epoch 16/50\n",
            "4/4 [==============================] - 0s 24ms/step - loss: 0.4908 - accuracy: 0.7613 - val_loss: 0.6897 - val_accuracy: 0.4083\n",
            "Epoch 17/50\n",
            "4/4 [==============================] - 0s 21ms/step - loss: 0.5191 - accuracy: 0.7396 - val_loss: 0.6644 - val_accuracy: 0.5750\n",
            "Epoch 18/50\n",
            "4/4 [==============================] - 0s 20ms/step - loss: 0.4413 - accuracy: 0.8754 - val_loss: 0.6422 - val_accuracy: 0.6167\n",
            "Epoch 19/50\n",
            "4/4 [==============================] - 0s 22ms/step - loss: 0.5065 - accuracy: 0.7396 - val_loss: 0.6196 - val_accuracy: 0.6250\n",
            "Epoch 20/50\n",
            "4/4 [==============================] - 0s 24ms/step - loss: 0.4966 - accuracy: 0.8275 - val_loss: 0.5977 - val_accuracy: 0.6583\n",
            "Epoch 21/50\n",
            "4/4 [==============================] - 0s 23ms/step - loss: 0.4465 - accuracy: 0.8071 - val_loss: 0.5776 - val_accuracy: 0.6750\n",
            "Epoch 22/50\n",
            "4/4 [==============================] - 0s 21ms/step - loss: 0.4348 - accuracy: 0.8200 - val_loss: 0.5600 - val_accuracy: 0.7000\n",
            "Epoch 23/50\n",
            "4/4 [==============================] - 0s 19ms/step - loss: 0.4660 - accuracy: 0.8146 - val_loss: 0.5469 - val_accuracy: 0.7417\n",
            "Epoch 24/50\n",
            "4/4 [==============================] - 0s 23ms/step - loss: 0.4086 - accuracy: 0.8646 - val_loss: 0.5350 - val_accuracy: 0.7667\n",
            "Epoch 25/50\n",
            "4/4 [==============================] - 0s 21ms/step - loss: 0.4695 - accuracy: 0.8183 - val_loss: 0.5219 - val_accuracy: 0.7667\n",
            "Epoch 26/50\n",
            "4/4 [==============================] - 0s 21ms/step - loss: 0.4127 - accuracy: 0.8696 - val_loss: 0.5092 - val_accuracy: 0.8083\n",
            "Epoch 27/50\n",
            "4/4 [==============================] - 0s 21ms/step - loss: 0.4079 - accuracy: 0.9021 - val_loss: 0.4970 - val_accuracy: 0.8083\n",
            "Epoch 28/50\n",
            "4/4 [==============================] - 0s 20ms/step - loss: 0.3766 - accuracy: 0.8208 - val_loss: 0.4847 - val_accuracy: 0.8250\n",
            "Epoch 29/50\n",
            "4/4 [==============================] - 0s 21ms/step - loss: 0.3824 - accuracy: 0.8967 - val_loss: 0.4739 - val_accuracy: 0.8333\n",
            "Epoch 30/50\n",
            "4/4 [==============================] - 0s 21ms/step - loss: 0.4019 - accuracy: 0.8471 - val_loss: 0.4642 - val_accuracy: 0.8333\n",
            "Epoch 31/50\n",
            "4/4 [==============================] - 0s 20ms/step - loss: 0.3252 - accuracy: 0.9079 - val_loss: 0.4554 - val_accuracy: 0.8417\n",
            "Epoch 32/50\n",
            "4/4 [==============================] - 0s 21ms/step - loss: 0.4327 - accuracy: 0.7908 - val_loss: 0.4479 - val_accuracy: 0.8333\n",
            "Epoch 33/50\n",
            "4/4 [==============================] - 0s 23ms/step - loss: 0.3754 - accuracy: 0.8329 - val_loss: 0.4426 - val_accuracy: 0.8417\n",
            "Epoch 34/50\n",
            "4/4 [==============================] - 0s 21ms/step - loss: 0.3605 - accuracy: 0.9188 - val_loss: 0.4388 - val_accuracy: 0.8333\n",
            "Epoch 35/50\n",
            "4/4 [==============================] - 0s 20ms/step - loss: 0.4567 - accuracy: 0.8346 - val_loss: 0.4352 - val_accuracy: 0.8333\n",
            "Epoch 36/50\n",
            "4/4 [==============================] - 0s 20ms/step - loss: 0.4354 - accuracy: 0.8437 - val_loss: 0.4330 - val_accuracy: 0.8417\n",
            "Epoch 37/50\n",
            "4/4 [==============================] - 0s 21ms/step - loss: 0.3995 - accuracy: 0.8504 - val_loss: 0.4296 - val_accuracy: 0.8333\n",
            "Epoch 38/50\n",
            "4/4 [==============================] - 0s 22ms/step - loss: 0.3654 - accuracy: 0.8721 - val_loss: 0.4270 - val_accuracy: 0.8417\n",
            "Epoch 39/50\n",
            "4/4 [==============================] - 0s 22ms/step - loss: 0.4128 - accuracy: 0.8613 - val_loss: 0.4233 - val_accuracy: 0.8500\n",
            "Epoch 40/50\n",
            "4/4 [==============================] - 0s 22ms/step - loss: 0.3600 - accuracy: 0.8062 - val_loss: 0.4228 - val_accuracy: 0.8500\n",
            "Epoch 41/50\n",
            "4/4 [==============================] - 0s 25ms/step - loss: 0.3816 - accuracy: 0.8829 - val_loss: 0.4216 - val_accuracy: 0.8500\n",
            "Epoch 42/50\n",
            "4/4 [==============================] - 0s 21ms/step - loss: 0.3322 - accuracy: 0.9121 - val_loss: 0.4202 - val_accuracy: 0.8500\n",
            "Epoch 43/50\n",
            "4/4 [==============================] - 0s 20ms/step - loss: 0.3401 - accuracy: 0.9608 - val_loss: 0.4202 - val_accuracy: 0.8500\n",
            "Epoch 44/50\n",
            "4/4 [==============================] - 0s 21ms/step - loss: 0.3706 - accuracy: 0.9487 - val_loss: 0.4205 - val_accuracy: 0.8500\n",
            "Epoch 45/50\n",
            "4/4 [==============================] - 0s 23ms/step - loss: 0.3699 - accuracy: 0.9208 - val_loss: 0.4203 - val_accuracy: 0.8500\n",
            "Epoch 46/50\n",
            "4/4 [==============================] - 0s 22ms/step - loss: 0.3526 - accuracy: 0.9529 - val_loss: 0.4193 - val_accuracy: 0.8583\n",
            "Epoch 47/50\n",
            "4/4 [==============================] - 0s 23ms/step - loss: 0.3930 - accuracy: 0.8021 - val_loss: 0.4204 - val_accuracy: 0.8583\n",
            "Epoch 48/50\n",
            "4/4 [==============================] - 0s 21ms/step - loss: 0.3693 - accuracy: 0.8596 - val_loss: 0.4236 - val_accuracy: 0.8667\n",
            "Epoch 49/50\n",
            "4/4 [==============================] - 0s 22ms/step - loss: 0.3601 - accuracy: 0.8213 - val_loss: 0.4282 - val_accuracy: 0.8583\n",
            "Epoch 50/50\n",
            "4/4 [==============================] - 0s 22ms/step - loss: 0.3602 - accuracy: 0.9033 - val_loss: 0.4340 - val_accuracy: 0.8583\n"
          ],
          "name": "stdout"
        }
      ]
    },
    {
      "cell_type": "code",
      "metadata": {
        "colab": {
          "base_uri": "https://localhost:8080/",
          "height": 562
        },
        "id": "f5csHKzvMJWy",
        "outputId": "7c325a18-cb48-42d0-9753-1af3571616eb"
      },
      "source": [
        "plot_training_analysis()"
      ],
      "execution_count": 105,
      "outputs": [
        {
          "output_type": "display_data",
          "data": {
            "image/png": "[encoded data removed]",
            "text/plain": [
              "<Figure size 432x288 with 1 Axes>"
            ]
          },
          "metadata": {
            "tags": [],
            "needs_background": "light"
          }
        },
        {
          "output_type": "display_data",
          "data": {
            "image/png": "[encoded data removed]",
            "text/plain": [
              "<Figure size 432x288 with 1 Axes>"
            ]
          },
          "metadata": {
            "tags": [],
            "needs_background": "light"
          }
        },
        {
          "output_type": "display_data",
          "data": {
            "text/plain": [
              "<Figure size 432x288 with 0 Axes>"
            ]
          },
          "metadata": {
            "tags": []
          }
        }
      ]
    },
    {
      "cell_type": "code",
      "metadata": {
        "colab": {
          "base_uri": "https://localhost:8080/",
          "height": 371
        },
        "id": "r60LO7sePvYW",
        "outputId": "9fe398cf-7729-4245-8319-459dc22e99c7"
      },
      "source": [
        "#Predictions\r\n",
        "prediction_test_0_mat = model.predict(Data_Test_2_0)\r\n",
        "prediction_test_1_mat = model.predict(Data_Test_2_1)\r\n",
        "prediction_test_2_mat = model.predict(Data_Test_2_2)\r\n",
        "\r\n",
        "prediction_test_0 = np.zeros((40))\r\n",
        "prediction_test_1 = np.zeros((40))\r\n",
        "prediction_test_2 = np.zeros((40))\r\n",
        "\r\n",
        "for i in range(0, 40):\r\n",
        "  prediction_test_0[i] = np.argmax(prediction_test_0_mat[i, :])\r\n",
        "  prediction_test_1[i] = np.argmax(prediction_test_1_mat[i, :])\r\n",
        "  prediction_test_2[i] = np.argmax(prediction_test_2_mat[i, :])\r\n",
        "\r\n",
        "# Estimation\r\n",
        "matrice_confusion = np.zeros((3, 3))\r\n",
        "for i in range (0, 40):\r\n",
        "  matrice_confusion[0, int(prediction_test_0[i])] += 1\r\n",
        "for i in range (0, 40):\r\n",
        "  matrice_confusion[1, int(prediction_test_1[i])] += 1\r\n",
        "for i in range (0, 40):\r\n",
        "  matrice_confusion[2, int(prediction_test_2[i])] +=1\r\n",
        "\r\n",
        "# Print\r\n",
        "print(matrice_confusion)\r\n",
        "fig, ax = plt.subplots()\r\n",
        "ax.imshow(matrice_confusion)\r\n",
        "\r\n",
        "# Annotation\r\n",
        "for i in range(0, 3):\r\n",
        "    for j in range(0, 3):\r\n",
        "        text = ax.text(j, i, matrice_confusion[i, j],\r\n",
        "                       ha=\"center\", va=\"center\", color=\"w\")\r\n",
        "\r\n",
        "# Accuracy        \r\n",
        "accuracy_0 = matrice_confusion[0, 0] / (matrice_confusion[0, 0] + matrice_confusion[0, 1] + matrice_confusion[0, 2])\r\n",
        "accuracy_1 = matrice_confusion[1, 1] / (matrice_confusion[1, 0] + matrice_confusion[1, 1] + matrice_confusion[1, 2])\r\n",
        "accuracy_2 = matrice_confusion[2, 2] / (matrice_confusion[2, 0] + matrice_confusion[2, 1] + matrice_confusion[2, 2])\r\n",
        "\r\n",
        "print(\"Le taux de bonne prédiction sur la classe 0 est de :\", accuracy_0*100, \"%\")\r\n",
        "print(\"Le taux de bonne prédiction sur la classe 1 est de :\", accuracy_1*100, \"%\")\r\n",
        "print(\"Le taux de bonne prédiction sur la classe 2 est de :\", accuracy_2*100, \"%\")\r\n"
      ],
      "execution_count": 107,
      "outputs": [
        {
          "output_type": "stream",
          "text": [
            "[[29.  4.  7.]\n",
            " [ 4. 36.  0.]\n",
            " [ 0.  2. 38.]]\n",
            "Le taux de bonne prédiction sur la classe 0 est de : 72.5 %\n",
            "Le taux de bonne prédiction sur la classe 1 est de : 90.0 %\n",
            "Le taux de bonne prédiction sur la classe 2 est de : 95.0 %\n"
          ],
          "name": "stdout"
        },
        {
          "output_type": "display_data",
          "data": {
            "image/png": "[encoded data removed]",
            "text/plain": [
              "<Figure size 432x288 with 1 Axes>"
            ]
          },
          "metadata": {
            "tags": [],
            "needs_background": "light"
          }
        }
      ]
    },
    {
      "cell_type": "markdown",
      "metadata": {
        "id": "kmOFOI3fTvv0"
      },
      "source": [
        "Il doit y avoir une erreur dans l'entraînement qui se trompe sur la classe n 2.\r\n",
        "Cependant les résultats sont plutôt correct, nous pensons que l'on peut se rapprocher des résultats du SVM en retirant cette erreur, mais nous ne pourrons pas les battre."
      ]
    },
    {
      "cell_type": "markdown",
      "metadata": {
        "id": "5-7lNskwUXin"
      },
      "source": [
        "En conclusion, nous constatons que toutes les méthodes de classification ont donné des résultats convenable, nous pensons que la meilleur méthode de classification dépend du problème donné.\r\n",
        "\r\n",
        "Sur ce problème ci, SVM nous semble adapté."
      ]
    },
    {
      "cell_type": "markdown",
      "metadata": {
        "id": "eWWQViFGEu5s"
      },
      "source": [
        "MISE A JOUR : Le problème du CNN a été réglé. Les résultats s'approchent du SVM. En optimisant un peu plus notre réseau de neurone nous pensons pouvoir le battre.\r\n",
        "\r\n",
        "Concrètement le défaut de notre CNN est qu'il overfit les donnes d'apprentissages. Il faudrait peut-être diminuer la taille du réseau."
      ]
    },
    {
      "cell_type": "code",
      "metadata": {
        "id": "TTcVrLvDEzib"
      },
      "source": [
        ""
      ],
      "execution_count": null,
      "outputs": []
    }
  ]
}